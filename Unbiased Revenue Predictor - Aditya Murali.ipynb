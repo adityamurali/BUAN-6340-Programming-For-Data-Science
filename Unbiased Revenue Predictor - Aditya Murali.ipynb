{
 "cells": [
  {
   "attachments": {
    "flowchart.png": {
     "image/png": "[encoded data removed]"
    }
   },
   "cell_type": "markdown",
   "metadata": {},
   "source": [
    "# Part 1: \n",
    "In your project you have been working with a bias dataset. Most probabely suupervised models were underfit. You should remember that this is a real dataset, and in real life most of the time you dont have access to clean and unbias dataset. In situations like this, none of the regression models will have a good fit for the dataset due to the large predence of the 0s. In the first part of this take-home exam, you are asked to be creative, and find a solution for this problem. \n",
    "\n",
    "For this dataset, you can break the problem, into a two-step machine learning model. \n",
    "\n",
    "First step is to classify the data points as positive revenue and zero revenue. This simply is a binary classification. You should remember that when you are dealing with biased datasets, accuracy is not a reliable scoring metric. So look for a robust scoring function. \n",
    "\n",
    "Next, you need to build a regression model to postprocess classification results. Here is a flow chart to show you the outline of the model. \n",
    "\n",
    "![flowchart.png](attachment:flowchart.png)"
   ]
  },
  {
   "cell_type": "markdown",
   "metadata": {},
   "source": [
    "### Import Libraries"
   ]
  },
  {
   "cell_type": "code",
   "execution_count": 211,
   "metadata": {},
   "outputs": [],
   "source": [
    "import numpy as np\n",
    "import pandas as pd\n",
    "import matplotlib.pyplot as plt\n",
    "from ast import literal_eval\n",
    "from pandas.io.json import json_normalize\n",
    "import json\n",
    "from sklearn.cluster import KMeans\n",
    "from sklearn.metrics import confusion_matrix, classification_report\n",
    "import seaborn as sns\n",
    "from sklearn.model_selection import train_test_split\n",
    "from sklearn.linear_model import LinearRegression\n",
    "from sklearn.metrics import mean_absolute_error, mean_squared_error, accuracy_score\n",
    "from sklearn.naive_bayes import GaussianNB\n",
    "from sklearn.tree import DecisionTreeClassifier"
   ]
  },
  {
   "cell_type": "markdown",
   "metadata": {},
   "source": [
    "### Read data into Jupyter Notebook"
   ]
  },
  {
   "cell_type": "code",
   "execution_count": 212,
   "metadata": {},
   "outputs": [],
   "source": [
    "data = pd.read_csv('data.csv')"
   ]
  },
  {
   "cell_type": "markdown",
   "metadata": {},
   "source": [
    "### Pre-processing and Data exploration"
   ]
  },
  {
   "cell_type": "markdown",
   "metadata": {},
   "source": [
    "1. Check for missing data\n",
    "\n",
    "For each column the number of null values is counted. From the result below, it is clear that the columns 'totals_bounces', 'totals_newVisits', 'totals_sessionQualityDim', 'totals_timeOnSite', 'totals_totalTransactionRevenue', 'totals_transactionRevenue' and 'totals_transactions' have a lot of missing values."
   ]
  },
  {
   "cell_type": "code",
   "execution_count": 3,
   "metadata": {},
   "outputs": [
    {
     "data": {
      "text/plain": [
       "channelGrouping                       0\n",
       "customDimensions                      0\n",
       "date                                  0\n",
       "device                                0\n",
       "fullVisitorId                         0\n",
       "geoNetwork                            0\n",
       "hits                                  0\n",
       "socialEngagementType                  0\n",
       "trafficSource                         0\n",
       "visitId                               0\n",
       "visitNumber                           0\n",
       "visitStartTime                        0\n",
       "totals_bounces                    10127\n",
       "totals_hits                           0\n",
       "totals_newVisits                   4912\n",
       "totals_pageviews                      1\n",
       "totals_sessionQualityDim          10880\n",
       "totals_timeOnSite                  9899\n",
       "totals_totalTransactionRevenue    19807\n",
       "totals_transactionRevenue         19807\n",
       "totals_transactions               19804\n",
       "totals_visits                         0\n",
       "dtype: int64"
      ]
     },
     "execution_count": 3,
     "metadata": {},
     "output_type": "execute_result"
    }
   ],
   "source": [
    "data.isna().sum()"
   ]
  },
  {
   "cell_type": "markdown",
   "metadata": {},
   "source": [
    "2. Understand data types in the dataset\n",
    "\n",
    "Let us examine the different types of data that are present."
   ]
  },
  {
   "cell_type": "code",
   "execution_count": 4,
   "metadata": {},
   "outputs": [
    {
     "name": "stdout",
     "output_type": "stream",
     "text": [
      "<class 'pandas.core.frame.DataFrame'>\n",
      "RangeIndex: 20000 entries, 0 to 19999\n",
      "Data columns (total 22 columns):\n",
      "channelGrouping                   20000 non-null object\n",
      "customDimensions                  20000 non-null object\n",
      "date                              20000 non-null int64\n",
      "device                            20000 non-null object\n",
      "fullVisitorId                     20000 non-null uint64\n",
      "geoNetwork                        20000 non-null object\n",
      "hits                              20000 non-null object\n",
      "socialEngagementType              20000 non-null object\n",
      "trafficSource                     20000 non-null object\n",
      "visitId                           20000 non-null int64\n",
      "visitNumber                       20000 non-null int64\n",
      "visitStartTime                    20000 non-null int64\n",
      "totals_bounces                    9873 non-null float64\n",
      "totals_hits                       20000 non-null int64\n",
      "totals_newVisits                  15088 non-null float64\n",
      "totals_pageviews                  19999 non-null float64\n",
      "totals_sessionQualityDim          9120 non-null float64\n",
      "totals_timeOnSite                 10101 non-null float64\n",
      "totals_totalTransactionRevenue    193 non-null float64\n",
      "totals_transactionRevenue         193 non-null float64\n",
      "totals_transactions               196 non-null float64\n",
      "totals_visits                     20000 non-null int64\n",
      "dtypes: float64(8), int64(6), object(7), uint64(1)\n",
      "memory usage: 3.4+ MB\n"
     ]
    }
   ],
   "source": [
    "data.info()"
   ]
  },
  {
   "cell_type": "markdown",
   "metadata": {},
   "source": [
    "3. Flatten JSON data\n",
    "\n",
    "It can be seen that the values in five columns: 'customDimensions', 'device', 'geoNetwork', 'hits' and 'trafficSource' appear as JSON. Hence, the values in these columns need to be flattened so that necessary information can be extracted."
   ]
  },
  {
   "cell_type": "markdown",
   "metadata": {},
   "source": [
    "- Flatten data in 'customDimensions' column"
   ]
  },
  {
   "cell_type": "code",
   "execution_count": 213,
   "metadata": {},
   "outputs": [],
   "source": [
    "data['customDimensions']=data['customDimensions'].apply(literal_eval)\n",
    "data['customDimensions']=data['customDimensions'].str[0]\n",
    "data['customDimensions']=data['customDimensions'].apply(lambda x: {'index':np.NaN,'value':np.NaN} if pd.isnull(x) else x)\n",
    "custDim_df = pd.io.json.json_normalize(data['customDimensions'])"
   ]
  },
  {
   "cell_type": "markdown",
   "metadata": {},
   "source": [
    "- Flatten data in 'device' column"
   ]
  },
  {
   "cell_type": "code",
   "execution_count": 214,
   "metadata": {},
   "outputs": [],
   "source": [
    "device_df = pd.io.json.json_normalize(data['device'].apply(eval))"
   ]
  },
  {
   "cell_type": "markdown",
   "metadata": {},
   "source": [
    "- Flatten data in 'geoNetwork' column"
   ]
  },
  {
   "cell_type": "code",
   "execution_count": 215,
   "metadata": {},
   "outputs": [],
   "source": [
    "geoNetwork_df = pd.io.json.json_normalize(data['geoNetwork'].apply(eval))"
   ]
  },
  {
   "cell_type": "markdown",
   "metadata": {},
   "source": [
    "- Flatten data in 'hits' column"
   ]
  },
  {
   "cell_type": "code",
   "execution_count": 216,
   "metadata": {},
   "outputs": [],
   "source": [
    "data['hits']=data['hits'].apply(literal_eval)\n",
    "data['hits']=data['hits'].str[0]\n",
    "data['hits']=data['hits'].apply(lambda x: {'index':np.NaN,'value':np.NaN} if pd.isnull(x) else x)\n",
    "hits_df = pd.io.json.json_normalize(data['hits'])"
   ]
  },
  {
   "cell_type": "markdown",
   "metadata": {},
   "source": [
    "- Flatten data in 'trafficSource' column"
   ]
  },
  {
   "cell_type": "code",
   "execution_count": 217,
   "metadata": {},
   "outputs": [],
   "source": [
    "trafficSource_df = pd.io.json.json_normalize(data['trafficSource'].apply(eval))"
   ]
  },
  {
   "cell_type": "markdown",
   "metadata": {},
   "source": [
    "4. Drop columns not required from flattened data"
   ]
  },
  {
   "cell_type": "markdown",
   "metadata": {},
   "source": [
    "- Extract required data from 'customDimensions'"
   ]
  },
  {
   "cell_type": "code",
   "execution_count": 10,
   "metadata": {},
   "outputs": [
    {
     "data": {
      "text/html": [
       "<div>\n",
       "<style scoped>\n",
       "    .dataframe tbody tr th:only-of-type {\n",
       "        vertical-align: middle;\n",
       "    }\n",
       "\n",
       "    .dataframe tbody tr th {\n",
       "        vertical-align: top;\n",
       "    }\n",
       "\n",
       "    .dataframe thead th {\n",
       "        text-align: right;\n",
       "    }\n",
       "</style>\n",
       "<table border=\"1\" class=\"dataframe\">\n",
       "  <thead>\n",
       "    <tr style=\"text-align: right;\">\n",
       "      <th></th>\n",
       "      <th>index</th>\n",
       "      <th>value</th>\n",
       "    </tr>\n",
       "  </thead>\n",
       "  <tbody>\n",
       "    <tr>\n",
       "      <th>0</th>\n",
       "      <td>4</td>\n",
       "      <td>EMEA</td>\n",
       "    </tr>\n",
       "    <tr>\n",
       "      <th>1</th>\n",
       "      <td>4</td>\n",
       "      <td>North America</td>\n",
       "    </tr>\n",
       "    <tr>\n",
       "      <th>2</th>\n",
       "      <td>4</td>\n",
       "      <td>North America</td>\n",
       "    </tr>\n",
       "    <tr>\n",
       "      <th>3</th>\n",
       "      <td>4</td>\n",
       "      <td>EMEA</td>\n",
       "    </tr>\n",
       "    <tr>\n",
       "      <th>4</th>\n",
       "      <td>4</td>\n",
       "      <td>Central America</td>\n",
       "    </tr>\n",
       "  </tbody>\n",
       "</table>\n",
       "</div>"
      ],
      "text/plain": [
       "  index            value\n",
       "0     4             EMEA\n",
       "1     4    North America\n",
       "2     4    North America\n",
       "3     4             EMEA\n",
       "4     4  Central America"
      ]
     },
     "execution_count": 10,
     "metadata": {},
     "output_type": "execute_result"
    }
   ],
   "source": [
    "custDim_df.head()"
   ]
  },
  {
   "cell_type": "markdown",
   "metadata": {},
   "source": [
    "We do not need the 'index' column as it is just a constant number. The 'value' column represents an aggregated business region."
   ]
  },
  {
   "cell_type": "code",
   "execution_count": 218,
   "metadata": {},
   "outputs": [],
   "source": [
    "d1 = custDim_df[['value']]"
   ]
  },
  {
   "cell_type": "markdown",
   "metadata": {},
   "source": [
    "- Extract required data from 'device' column"
   ]
  },
  {
   "cell_type": "code",
   "execution_count": 12,
   "metadata": {},
   "outputs": [
    {
     "data": {
      "text/html": [
       "<div>\n",
       "<style scoped>\n",
       "    .dataframe tbody tr th:only-of-type {\n",
       "        vertical-align: middle;\n",
       "    }\n",
       "\n",
       "    .dataframe tbody tr th {\n",
       "        vertical-align: top;\n",
       "    }\n",
       "\n",
       "    .dataframe thead th {\n",
       "        text-align: right;\n",
       "    }\n",
       "</style>\n",
       "<table border=\"1\" class=\"dataframe\">\n",
       "  <thead>\n",
       "    <tr style=\"text-align: right;\">\n",
       "      <th></th>\n",
       "      <th>browser</th>\n",
       "      <th>browserSize</th>\n",
       "      <th>browserVersion</th>\n",
       "      <th>deviceCategory</th>\n",
       "      <th>flashVersion</th>\n",
       "      <th>isMobile</th>\n",
       "      <th>language</th>\n",
       "      <th>mobileDeviceBranding</th>\n",
       "      <th>mobileDeviceInfo</th>\n",
       "      <th>mobileDeviceMarketingName</th>\n",
       "      <th>mobileDeviceModel</th>\n",
       "      <th>mobileInputSelector</th>\n",
       "      <th>operatingSystem</th>\n",
       "      <th>operatingSystemVersion</th>\n",
       "      <th>screenColors</th>\n",
       "      <th>screenResolution</th>\n",
       "    </tr>\n",
       "  </thead>\n",
       "  <tbody>\n",
       "    <tr>\n",
       "      <th>0</th>\n",
       "      <td>Firefox</td>\n",
       "      <td>not available in demo dataset</td>\n",
       "      <td>not available in demo dataset</td>\n",
       "      <td>desktop</td>\n",
       "      <td>not available in demo dataset</td>\n",
       "      <td>False</td>\n",
       "      <td>not available in demo dataset</td>\n",
       "      <td>not available in demo dataset</td>\n",
       "      <td>not available in demo dataset</td>\n",
       "      <td>not available in demo dataset</td>\n",
       "      <td>not available in demo dataset</td>\n",
       "      <td>not available in demo dataset</td>\n",
       "      <td>Windows</td>\n",
       "      <td>not available in demo dataset</td>\n",
       "      <td>not available in demo dataset</td>\n",
       "      <td>not available in demo dataset</td>\n",
       "    </tr>\n",
       "    <tr>\n",
       "      <th>1</th>\n",
       "      <td>Chrome</td>\n",
       "      <td>not available in demo dataset</td>\n",
       "      <td>not available in demo dataset</td>\n",
       "      <td>desktop</td>\n",
       "      <td>not available in demo dataset</td>\n",
       "      <td>False</td>\n",
       "      <td>not available in demo dataset</td>\n",
       "      <td>not available in demo dataset</td>\n",
       "      <td>not available in demo dataset</td>\n",
       "      <td>not available in demo dataset</td>\n",
       "      <td>not available in demo dataset</td>\n",
       "      <td>not available in demo dataset</td>\n",
       "      <td>Chrome OS</td>\n",
       "      <td>not available in demo dataset</td>\n",
       "      <td>not available in demo dataset</td>\n",
       "      <td>not available in demo dataset</td>\n",
       "    </tr>\n",
       "    <tr>\n",
       "      <th>2</th>\n",
       "      <td>Chrome</td>\n",
       "      <td>not available in demo dataset</td>\n",
       "      <td>not available in demo dataset</td>\n",
       "      <td>mobile</td>\n",
       "      <td>not available in demo dataset</td>\n",
       "      <td>True</td>\n",
       "      <td>not available in demo dataset</td>\n",
       "      <td>not available in demo dataset</td>\n",
       "      <td>not available in demo dataset</td>\n",
       "      <td>not available in demo dataset</td>\n",
       "      <td>not available in demo dataset</td>\n",
       "      <td>not available in demo dataset</td>\n",
       "      <td>Android</td>\n",
       "      <td>not available in demo dataset</td>\n",
       "      <td>not available in demo dataset</td>\n",
       "      <td>not available in demo dataset</td>\n",
       "    </tr>\n",
       "  </tbody>\n",
       "</table>\n",
       "</div>"
      ],
      "text/plain": [
       "   browser                    browserSize                 browserVersion  \\\n",
       "0  Firefox  not available in demo dataset  not available in demo dataset   \n",
       "1   Chrome  not available in demo dataset  not available in demo dataset   \n",
       "2   Chrome  not available in demo dataset  not available in demo dataset   \n",
       "\n",
       "  deviceCategory                   flashVersion  isMobile  \\\n",
       "0        desktop  not available in demo dataset     False   \n",
       "1        desktop  not available in demo dataset     False   \n",
       "2         mobile  not available in demo dataset      True   \n",
       "\n",
       "                        language           mobileDeviceBranding  \\\n",
       "0  not available in demo dataset  not available in demo dataset   \n",
       "1  not available in demo dataset  not available in demo dataset   \n",
       "2  not available in demo dataset  not available in demo dataset   \n",
       "\n",
       "                mobileDeviceInfo      mobileDeviceMarketingName  \\\n",
       "0  not available in demo dataset  not available in demo dataset   \n",
       "1  not available in demo dataset  not available in demo dataset   \n",
       "2  not available in demo dataset  not available in demo dataset   \n",
       "\n",
       "               mobileDeviceModel            mobileInputSelector  \\\n",
       "0  not available in demo dataset  not available in demo dataset   \n",
       "1  not available in demo dataset  not available in demo dataset   \n",
       "2  not available in demo dataset  not available in demo dataset   \n",
       "\n",
       "  operatingSystem         operatingSystemVersion  \\\n",
       "0         Windows  not available in demo dataset   \n",
       "1       Chrome OS  not available in demo dataset   \n",
       "2         Android  not available in demo dataset   \n",
       "\n",
       "                    screenColors               screenResolution  \n",
       "0  not available in demo dataset  not available in demo dataset  \n",
       "1  not available in demo dataset  not available in demo dataset  \n",
       "2  not available in demo dataset  not available in demo dataset  "
      ]
     },
     "execution_count": 12,
     "metadata": {},
     "output_type": "execute_result"
    }
   ],
   "source": [
    "device_df.head(3)"
   ]
  },
  {
   "cell_type": "markdown",
   "metadata": {},
   "source": [
    "I can see that: browserSize, browserVersion, flashVersion, language, mobileDeviceBranding, mobileDeviceInfo, mobileDeviceMarketingName, mobileDeviceModel, mobileInputSelector, operatingSystemVersion, screenColors and screenResolution are 'not available in demo dataset'.\n",
    "\n",
    "Hence I will drop these columns and keep just deviceCategory, isMobile and OperatingSystem."
   ]
  },
  {
   "cell_type": "code",
   "execution_count": 219,
   "metadata": {},
   "outputs": [],
   "source": [
    "d2 = device_df[['deviceCategory','isMobile','operatingSystem']]"
   ]
  },
  {
   "cell_type": "markdown",
   "metadata": {},
   "source": [
    "- Extract required data from 'geoNetwork' column"
   ]
  },
  {
   "cell_type": "code",
   "execution_count": 14,
   "metadata": {},
   "outputs": [
    {
     "data": {
      "text/html": [
       "<div>\n",
       "<style scoped>\n",
       "    .dataframe tbody tr th:only-of-type {\n",
       "        vertical-align: middle;\n",
       "    }\n",
       "\n",
       "    .dataframe tbody tr th {\n",
       "        vertical-align: top;\n",
       "    }\n",
       "\n",
       "    .dataframe thead th {\n",
       "        text-align: right;\n",
       "    }\n",
       "</style>\n",
       "<table border=\"1\" class=\"dataframe\">\n",
       "  <thead>\n",
       "    <tr style=\"text-align: right;\">\n",
       "      <th></th>\n",
       "      <th>city</th>\n",
       "      <th>cityId</th>\n",
       "      <th>continent</th>\n",
       "      <th>country</th>\n",
       "      <th>latitude</th>\n",
       "      <th>longitude</th>\n",
       "      <th>metro</th>\n",
       "      <th>networkDomain</th>\n",
       "      <th>networkLocation</th>\n",
       "      <th>region</th>\n",
       "      <th>subContinent</th>\n",
       "    </tr>\n",
       "  </thead>\n",
       "  <tbody>\n",
       "    <tr>\n",
       "      <th>0</th>\n",
       "      <td>not available in demo dataset</td>\n",
       "      <td>not available in demo dataset</td>\n",
       "      <td>Europe</td>\n",
       "      <td>Germany</td>\n",
       "      <td>not available in demo dataset</td>\n",
       "      <td>not available in demo dataset</td>\n",
       "      <td>not available in demo dataset</td>\n",
       "      <td>(not set)</td>\n",
       "      <td>not available in demo dataset</td>\n",
       "      <td>not available in demo dataset</td>\n",
       "      <td>Western Europe</td>\n",
       "    </tr>\n",
       "    <tr>\n",
       "      <th>1</th>\n",
       "      <td>Cupertino</td>\n",
       "      <td>not available in demo dataset</td>\n",
       "      <td>Americas</td>\n",
       "      <td>United States</td>\n",
       "      <td>not available in demo dataset</td>\n",
       "      <td>not available in demo dataset</td>\n",
       "      <td>San Francisco-Oakland-San Jose CA</td>\n",
       "      <td>(not set)</td>\n",
       "      <td>not available in demo dataset</td>\n",
       "      <td>California</td>\n",
       "      <td>Northern America</td>\n",
       "    </tr>\n",
       "    <tr>\n",
       "      <th>2</th>\n",
       "      <td>not available in demo dataset</td>\n",
       "      <td>not available in demo dataset</td>\n",
       "      <td>Americas</td>\n",
       "      <td>United States</td>\n",
       "      <td>not available in demo dataset</td>\n",
       "      <td>not available in demo dataset</td>\n",
       "      <td>not available in demo dataset</td>\n",
       "      <td>windjammercable.net</td>\n",
       "      <td>not available in demo dataset</td>\n",
       "      <td>not available in demo dataset</td>\n",
       "      <td>Northern America</td>\n",
       "    </tr>\n",
       "  </tbody>\n",
       "</table>\n",
       "</div>"
      ],
      "text/plain": [
       "                            city                         cityId continent  \\\n",
       "0  not available in demo dataset  not available in demo dataset    Europe   \n",
       "1                      Cupertino  not available in demo dataset  Americas   \n",
       "2  not available in demo dataset  not available in demo dataset  Americas   \n",
       "\n",
       "         country                       latitude  \\\n",
       "0        Germany  not available in demo dataset   \n",
       "1  United States  not available in demo dataset   \n",
       "2  United States  not available in demo dataset   \n",
       "\n",
       "                       longitude                              metro  \\\n",
       "0  not available in demo dataset      not available in demo dataset   \n",
       "1  not available in demo dataset  San Francisco-Oakland-San Jose CA   \n",
       "2  not available in demo dataset      not available in demo dataset   \n",
       "\n",
       "         networkDomain                networkLocation  \\\n",
       "0            (not set)  not available in demo dataset   \n",
       "1            (not set)  not available in demo dataset   \n",
       "2  windjammercable.net  not available in demo dataset   \n",
       "\n",
       "                          region      subContinent  \n",
       "0  not available in demo dataset    Western Europe  \n",
       "1                     California  Northern America  \n",
       "2  not available in demo dataset  Northern America  "
      ]
     },
     "execution_count": 14,
     "metadata": {},
     "output_type": "execute_result"
    }
   ],
   "source": [
    "geoNetwork_df.head(3)"
   ]
  },
  {
   "cell_type": "markdown",
   "metadata": {},
   "source": [
    "I can see that city, cityId, latitude, longitude, metro, networkLocation and region are not available in demo dataset. I can drop these columns as they are of no use.\n",
    "\n",
    "Hence, I will retain only columns continent and country. However this is an overlap with the Value column from customDimensions as it also represents aggregated geographic business regions."
   ]
  },
  {
   "cell_type": "code",
   "execution_count": 220,
   "metadata": {},
   "outputs": [
    {
     "data": {
      "text/plain": [
       "Americas     10521\n",
       "Europe        4511\n",
       "Asia          4253\n",
       "Africa         357\n",
       "Oceania        337\n",
       "(not set)       21\n",
       "Name: continent, dtype: int64"
      ]
     },
     "execution_count": 220,
     "metadata": {},
     "output_type": "execute_result"
    }
   ],
   "source": [
    "d3 = geoNetwork_df[['continent','country']] \n",
    "geoNetwork_df['continent'].value_counts()"
   ]
  },
  {
   "cell_type": "markdown",
   "metadata": {},
   "source": [
    "However, I can see that 21 records do not have a continent correctly labelled. Hence, I will stick to the value column from customDimensions to represent geographic aggregation."
   ]
  },
  {
   "cell_type": "markdown",
   "metadata": {},
   "source": [
    "- Extract required data from 'hits' column"
   ]
  },
  {
   "cell_type": "code",
   "execution_count": 16,
   "metadata": {},
   "outputs": [
    {
     "data": {
      "text/html": [
       "<div>\n",
       "<style scoped>\n",
       "    .dataframe tbody tr th:only-of-type {\n",
       "        vertical-align: middle;\n",
       "    }\n",
       "\n",
       "    .dataframe tbody tr th {\n",
       "        vertical-align: top;\n",
       "    }\n",
       "\n",
       "    .dataframe thead th {\n",
       "        text-align: right;\n",
       "    }\n",
       "</style>\n",
       "<table border=\"1\" class=\"dataframe\">\n",
       "  <thead>\n",
       "    <tr style=\"text-align: right;\">\n",
       "      <th></th>\n",
       "      <th>appInfo.exitScreenName</th>\n",
       "      <th>appInfo.landingScreenName</th>\n",
       "      <th>appInfo.screenDepth</th>\n",
       "      <th>appInfo.screenName</th>\n",
       "      <th>contentGroup.contentGroup1</th>\n",
       "      <th>contentGroup.contentGroup2</th>\n",
       "      <th>contentGroup.contentGroup3</th>\n",
       "      <th>contentGroup.contentGroup4</th>\n",
       "      <th>contentGroup.contentGroup5</th>\n",
       "      <th>contentGroup.contentGroupUniqueViews1</th>\n",
       "      <th>...</th>\n",
       "      <th>promotionActionInfo.promoIsView</th>\n",
       "      <th>publisher_infos</th>\n",
       "      <th>referer</th>\n",
       "      <th>social.hasSocialSourceReferral</th>\n",
       "      <th>social.socialInteractionNetworkAction</th>\n",
       "      <th>social.socialNetwork</th>\n",
       "      <th>time</th>\n",
       "      <th>transaction.currencyCode</th>\n",
       "      <th>type</th>\n",
       "      <th>value</th>\n",
       "    </tr>\n",
       "  </thead>\n",
       "  <tbody>\n",
       "    <tr>\n",
       "      <th>0</th>\n",
       "      <td>shop.googlemerchandisestore.com/google+redesig...</td>\n",
       "      <td>shop.googlemerchandisestore.com/google+redesig...</td>\n",
       "      <td>0</td>\n",
       "      <td>shop.googlemerchandisestore.com/google+redesig...</td>\n",
       "      <td>(not set)</td>\n",
       "      <td>Bags</td>\n",
       "      <td>(not set)</td>\n",
       "      <td>(not set)</td>\n",
       "      <td>(not set)</td>\n",
       "      <td>NaN</td>\n",
       "      <td>...</td>\n",
       "      <td>NaN</td>\n",
       "      <td>[]</td>\n",
       "      <td>https://www.google.co.uk/search?q=water+bottle...</td>\n",
       "      <td>No</td>\n",
       "      <td>:</td>\n",
       "      <td>(not set)</td>\n",
       "      <td>0</td>\n",
       "      <td>USD</td>\n",
       "      <td>PAGE</td>\n",
       "      <td>NaN</td>\n",
       "    </tr>\n",
       "    <tr>\n",
       "      <th>1</th>\n",
       "      <td>shop.googlemerchandisestore.com/asearch.html</td>\n",
       "      <td>shop.googlemerchandisestore.com/home</td>\n",
       "      <td>0</td>\n",
       "      <td>shop.googlemerchandisestore.com/home</td>\n",
       "      <td>(not set)</td>\n",
       "      <td>(not set)</td>\n",
       "      <td>(not set)</td>\n",
       "      <td>(not set)</td>\n",
       "      <td>(not set)</td>\n",
       "      <td>NaN</td>\n",
       "      <td>...</td>\n",
       "      <td>True</td>\n",
       "      <td>[]</td>\n",
       "      <td>https://sites.google.com/a/google.com/transpor...</td>\n",
       "      <td>No</td>\n",
       "      <td>:</td>\n",
       "      <td>(not set)</td>\n",
       "      <td>0</td>\n",
       "      <td>NaN</td>\n",
       "      <td>PAGE</td>\n",
       "      <td>NaN</td>\n",
       "    </tr>\n",
       "    <tr>\n",
       "      <th>2</th>\n",
       "      <td>shop.googlemerchandisestore.com/google+redesig...</td>\n",
       "      <td>shop.googlemerchandisestore.com/home</td>\n",
       "      <td>0</td>\n",
       "      <td>shop.googlemerchandisestore.com/home</td>\n",
       "      <td>(not set)</td>\n",
       "      <td>(not set)</td>\n",
       "      <td>(not set)</td>\n",
       "      <td>(not set)</td>\n",
       "      <td>(not set)</td>\n",
       "      <td>NaN</td>\n",
       "      <td>...</td>\n",
       "      <td>True</td>\n",
       "      <td>[]</td>\n",
       "      <td>https://www.googlemerchandisestore.com/</td>\n",
       "      <td>No</td>\n",
       "      <td>:</td>\n",
       "      <td>(not set)</td>\n",
       "      <td>0</td>\n",
       "      <td>NaN</td>\n",
       "      <td>PAGE</td>\n",
       "      <td>NaN</td>\n",
       "    </tr>\n",
       "  </tbody>\n",
       "</table>\n",
       "<p>3 rows × 58 columns</p>\n",
       "</div>"
      ],
      "text/plain": [
       "                              appInfo.exitScreenName  \\\n",
       "0  shop.googlemerchandisestore.com/google+redesig...   \n",
       "1       shop.googlemerchandisestore.com/asearch.html   \n",
       "2  shop.googlemerchandisestore.com/google+redesig...   \n",
       "\n",
       "                           appInfo.landingScreenName appInfo.screenDepth  \\\n",
       "0  shop.googlemerchandisestore.com/google+redesig...                   0   \n",
       "1               shop.googlemerchandisestore.com/home                   0   \n",
       "2               shop.googlemerchandisestore.com/home                   0   \n",
       "\n",
       "                                  appInfo.screenName  \\\n",
       "0  shop.googlemerchandisestore.com/google+redesig...   \n",
       "1               shop.googlemerchandisestore.com/home   \n",
       "2               shop.googlemerchandisestore.com/home   \n",
       "\n",
       "  contentGroup.contentGroup1 contentGroup.contentGroup2  \\\n",
       "0                  (not set)                       Bags   \n",
       "1                  (not set)                  (not set)   \n",
       "2                  (not set)                  (not set)   \n",
       "\n",
       "  contentGroup.contentGroup3 contentGroup.contentGroup4  \\\n",
       "0                  (not set)                  (not set)   \n",
       "1                  (not set)                  (not set)   \n",
       "2                  (not set)                  (not set)   \n",
       "\n",
       "  contentGroup.contentGroup5 contentGroup.contentGroupUniqueViews1  ...   \\\n",
       "0                  (not set)                                   NaN  ...    \n",
       "1                  (not set)                                   NaN  ...    \n",
       "2                  (not set)                                   NaN  ...    \n",
       "\n",
       "  promotionActionInfo.promoIsView publisher_infos  \\\n",
       "0                             NaN              []   \n",
       "1                            True              []   \n",
       "2                            True              []   \n",
       "\n",
       "                                             referer  \\\n",
       "0  https://www.google.co.uk/search?q=water+bottle...   \n",
       "1  https://sites.google.com/a/google.com/transpor...   \n",
       "2            https://www.googlemerchandisestore.com/   \n",
       "\n",
       "  social.hasSocialSourceReferral social.socialInteractionNetworkAction  \\\n",
       "0                             No                                    :    \n",
       "1                             No                                    :    \n",
       "2                             No                                    :    \n",
       "\n",
       "  social.socialNetwork time transaction.currencyCode  type value  \n",
       "0            (not set)    0                      USD  PAGE   NaN  \n",
       "1            (not set)    0                      NaN  PAGE   NaN  \n",
       "2            (not set)    0                      NaN  PAGE   NaN  \n",
       "\n",
       "[3 rows x 58 columns]"
      ]
     },
     "execution_count": 16,
     "metadata": {},
     "output_type": "execute_result"
    }
   ],
   "source": [
    "hits_df.head(3)"
   ]
  },
  {
   "cell_type": "markdown",
   "metadata": {},
   "source": [
    "Hits has mainly text based information. Not optimal to make classes or digits for regression. Hence I am dropping the column completely."
   ]
  },
  {
   "cell_type": "markdown",
   "metadata": {},
   "source": [
    "- Extract required data from 'trafficSource' column"
   ]
  },
  {
   "cell_type": "code",
   "execution_count": 17,
   "metadata": {},
   "outputs": [
    {
     "data": {
      "text/html": [
       "<div>\n",
       "<style scoped>\n",
       "    .dataframe tbody tr th:only-of-type {\n",
       "        vertical-align: middle;\n",
       "    }\n",
       "\n",
       "    .dataframe tbody tr th {\n",
       "        vertical-align: top;\n",
       "    }\n",
       "\n",
       "    .dataframe thead th {\n",
       "        text-align: right;\n",
       "    }\n",
       "</style>\n",
       "<table border=\"1\" class=\"dataframe\">\n",
       "  <thead>\n",
       "    <tr style=\"text-align: right;\">\n",
       "      <th></th>\n",
       "      <th>adContent</th>\n",
       "      <th>adwordsClickInfo.adNetworkType</th>\n",
       "      <th>adwordsClickInfo.criteriaParameters</th>\n",
       "      <th>adwordsClickInfo.gclId</th>\n",
       "      <th>adwordsClickInfo.isVideoAd</th>\n",
       "      <th>adwordsClickInfo.page</th>\n",
       "      <th>adwordsClickInfo.slot</th>\n",
       "      <th>campaign</th>\n",
       "      <th>isTrueDirect</th>\n",
       "      <th>keyword</th>\n",
       "      <th>medium</th>\n",
       "      <th>referralPath</th>\n",
       "      <th>source</th>\n",
       "    </tr>\n",
       "  </thead>\n",
       "  <tbody>\n",
       "    <tr>\n",
       "      <th>0</th>\n",
       "      <td>NaN</td>\n",
       "      <td>NaN</td>\n",
       "      <td>not available in demo dataset</td>\n",
       "      <td>NaN</td>\n",
       "      <td>NaN</td>\n",
       "      <td>NaN</td>\n",
       "      <td>NaN</td>\n",
       "      <td>(not set)</td>\n",
       "      <td>NaN</td>\n",
       "      <td>water bottle</td>\n",
       "      <td>organic</td>\n",
       "      <td>NaN</td>\n",
       "      <td>google</td>\n",
       "    </tr>\n",
       "    <tr>\n",
       "      <th>1</th>\n",
       "      <td>NaN</td>\n",
       "      <td>NaN</td>\n",
       "      <td>not available in demo dataset</td>\n",
       "      <td>NaN</td>\n",
       "      <td>NaN</td>\n",
       "      <td>NaN</td>\n",
       "      <td>NaN</td>\n",
       "      <td>(not set)</td>\n",
       "      <td>NaN</td>\n",
       "      <td>NaN</td>\n",
       "      <td>referral</td>\n",
       "      <td>/a/google.com/transportation/mtv-services/bike...</td>\n",
       "      <td>sites.google.com</td>\n",
       "    </tr>\n",
       "    <tr>\n",
       "      <th>2</th>\n",
       "      <td>NaN</td>\n",
       "      <td>NaN</td>\n",
       "      <td>not available in demo dataset</td>\n",
       "      <td>NaN</td>\n",
       "      <td>NaN</td>\n",
       "      <td>NaN</td>\n",
       "      <td>NaN</td>\n",
       "      <td>(not set)</td>\n",
       "      <td>True</td>\n",
       "      <td>NaN</td>\n",
       "      <td>(none)</td>\n",
       "      <td>NaN</td>\n",
       "      <td>(direct)</td>\n",
       "    </tr>\n",
       "  </tbody>\n",
       "</table>\n",
       "</div>"
      ],
      "text/plain": [
       "  adContent adwordsClickInfo.adNetworkType  \\\n",
       "0       NaN                            NaN   \n",
       "1       NaN                            NaN   \n",
       "2       NaN                            NaN   \n",
       "\n",
       "  adwordsClickInfo.criteriaParameters adwordsClickInfo.gclId  \\\n",
       "0       not available in demo dataset                    NaN   \n",
       "1       not available in demo dataset                    NaN   \n",
       "2       not available in demo dataset                    NaN   \n",
       "\n",
       "  adwordsClickInfo.isVideoAd adwordsClickInfo.page adwordsClickInfo.slot  \\\n",
       "0                        NaN                   NaN                   NaN   \n",
       "1                        NaN                   NaN                   NaN   \n",
       "2                        NaN                   NaN                   NaN   \n",
       "\n",
       "    campaign isTrueDirect       keyword    medium  \\\n",
       "0  (not set)          NaN  water bottle   organic   \n",
       "1  (not set)          NaN           NaN  referral   \n",
       "2  (not set)         True           NaN    (none)   \n",
       "\n",
       "                                        referralPath            source  \n",
       "0                                                NaN            google  \n",
       "1  /a/google.com/transportation/mtv-services/bike...  sites.google.com  \n",
       "2                                                NaN          (direct)  "
      ]
     },
     "execution_count": 17,
     "metadata": {},
     "output_type": "execute_result"
    }
   ],
   "source": [
    "trafficSource_df.head(3)"
   ]
  },
  {
   "cell_type": "markdown",
   "metadata": {},
   "source": [
    "I can see that adContent, adwordsClickInfo.adNetworkType, adwordsClickInfo.criteriaParameters, adwordsClickInfo.gclId, adwordsClickInfo.isVideoAd, adwordsClickInfo.page, adwordsClickInfo.slot have a lot of NaN or Not available in demo dataset.\n",
    "\n",
    "I will retain the column medium."
   ]
  },
  {
   "cell_type": "code",
   "execution_count": 221,
   "metadata": {},
   "outputs": [],
   "source": [
    "d4 = trafficSource_df[['medium']]"
   ]
  },
  {
   "cell_type": "markdown",
   "metadata": {},
   "source": [
    "4. Create a backup copy of the original dataset and drop the json columns"
   ]
  },
  {
   "cell_type": "code",
   "execution_count": 222,
   "metadata": {},
   "outputs": [],
   "source": [
    "data_copy = data\n",
    "data = data.drop(['hits','customDimensions','device','trafficSource', 'geoNetwork'], axis = 1)"
   ]
  },
  {
   "cell_type": "markdown",
   "metadata": {},
   "source": [
    "5. Merge extracted features into the dataset"
   ]
  },
  {
   "cell_type": "code",
   "execution_count": 223,
   "metadata": {},
   "outputs": [
    {
     "data": {
      "text/html": [
       "<div>\n",
       "<style scoped>\n",
       "    .dataframe tbody tr th:only-of-type {\n",
       "        vertical-align: middle;\n",
       "    }\n",
       "\n",
       "    .dataframe tbody tr th {\n",
       "        vertical-align: top;\n",
       "    }\n",
       "\n",
       "    .dataframe thead th {\n",
       "        text-align: right;\n",
       "    }\n",
       "</style>\n",
       "<table border=\"1\" class=\"dataframe\">\n",
       "  <thead>\n",
       "    <tr style=\"text-align: right;\">\n",
       "      <th></th>\n",
       "      <th>channelGrouping</th>\n",
       "      <th>date</th>\n",
       "      <th>fullVisitorId</th>\n",
       "      <th>socialEngagementType</th>\n",
       "      <th>visitId</th>\n",
       "      <th>visitNumber</th>\n",
       "      <th>visitStartTime</th>\n",
       "      <th>totals_bounces</th>\n",
       "      <th>totals_hits</th>\n",
       "      <th>totals_newVisits</th>\n",
       "      <th>...</th>\n",
       "      <th>totals_timeOnSite</th>\n",
       "      <th>totals_totalTransactionRevenue</th>\n",
       "      <th>totals_transactionRevenue</th>\n",
       "      <th>totals_transactions</th>\n",
       "      <th>totals_visits</th>\n",
       "      <th>value</th>\n",
       "      <th>deviceCategory</th>\n",
       "      <th>isMobile</th>\n",
       "      <th>operatingSystem</th>\n",
       "      <th>medium</th>\n",
       "    </tr>\n",
       "  </thead>\n",
       "  <tbody>\n",
       "    <tr>\n",
       "      <th>0</th>\n",
       "      <td>Organic Search</td>\n",
       "      <td>20171016</td>\n",
       "      <td>3162355547410993243</td>\n",
       "      <td>Not Socially Engaged</td>\n",
       "      <td>1508198450</td>\n",
       "      <td>1</td>\n",
       "      <td>1508198450</td>\n",
       "      <td>1.0</td>\n",
       "      <td>1</td>\n",
       "      <td>1.0</td>\n",
       "      <td>...</td>\n",
       "      <td>NaN</td>\n",
       "      <td>NaN</td>\n",
       "      <td>NaN</td>\n",
       "      <td>NaN</td>\n",
       "      <td>1</td>\n",
       "      <td>EMEA</td>\n",
       "      <td>desktop</td>\n",
       "      <td>False</td>\n",
       "      <td>Windows</td>\n",
       "      <td>organic</td>\n",
       "    </tr>\n",
       "    <tr>\n",
       "      <th>1</th>\n",
       "      <td>Referral</td>\n",
       "      <td>20171016</td>\n",
       "      <td>8934116514970143966</td>\n",
       "      <td>Not Socially Engaged</td>\n",
       "      <td>1508176307</td>\n",
       "      <td>6</td>\n",
       "      <td>1508176307</td>\n",
       "      <td>NaN</td>\n",
       "      <td>2</td>\n",
       "      <td>NaN</td>\n",
       "      <td>...</td>\n",
       "      <td>28.0</td>\n",
       "      <td>NaN</td>\n",
       "      <td>NaN</td>\n",
       "      <td>NaN</td>\n",
       "      <td>1</td>\n",
       "      <td>North America</td>\n",
       "      <td>desktop</td>\n",
       "      <td>False</td>\n",
       "      <td>Chrome OS</td>\n",
       "      <td>referral</td>\n",
       "    </tr>\n",
       "    <tr>\n",
       "      <th>2</th>\n",
       "      <td>Direct</td>\n",
       "      <td>20171016</td>\n",
       "      <td>7992466427990357681</td>\n",
       "      <td>Not Socially Engaged</td>\n",
       "      <td>1508201613</td>\n",
       "      <td>1</td>\n",
       "      <td>1508201613</td>\n",
       "      <td>NaN</td>\n",
       "      <td>2</td>\n",
       "      <td>1.0</td>\n",
       "      <td>...</td>\n",
       "      <td>38.0</td>\n",
       "      <td>NaN</td>\n",
       "      <td>NaN</td>\n",
       "      <td>NaN</td>\n",
       "      <td>1</td>\n",
       "      <td>North America</td>\n",
       "      <td>mobile</td>\n",
       "      <td>True</td>\n",
       "      <td>Android</td>\n",
       "      <td>(none)</td>\n",
       "    </tr>\n",
       "    <tr>\n",
       "      <th>3</th>\n",
       "      <td>Organic Search</td>\n",
       "      <td>20171016</td>\n",
       "      <td>9075655783635761930</td>\n",
       "      <td>Not Socially Engaged</td>\n",
       "      <td>1508169851</td>\n",
       "      <td>1</td>\n",
       "      <td>1508169851</td>\n",
       "      <td>NaN</td>\n",
       "      <td>2</td>\n",
       "      <td>1.0</td>\n",
       "      <td>...</td>\n",
       "      <td>1.0</td>\n",
       "      <td>NaN</td>\n",
       "      <td>NaN</td>\n",
       "      <td>NaN</td>\n",
       "      <td>1</td>\n",
       "      <td>EMEA</td>\n",
       "      <td>desktop</td>\n",
       "      <td>False</td>\n",
       "      <td>Windows</td>\n",
       "      <td>organic</td>\n",
       "    </tr>\n",
       "    <tr>\n",
       "      <th>4</th>\n",
       "      <td>Organic Search</td>\n",
       "      <td>20171016</td>\n",
       "      <td>6960673291025684308</td>\n",
       "      <td>Not Socially Engaged</td>\n",
       "      <td>1508190552</td>\n",
       "      <td>1</td>\n",
       "      <td>1508190552</td>\n",
       "      <td>NaN</td>\n",
       "      <td>2</td>\n",
       "      <td>1.0</td>\n",
       "      <td>...</td>\n",
       "      <td>52.0</td>\n",
       "      <td>NaN</td>\n",
       "      <td>NaN</td>\n",
       "      <td>NaN</td>\n",
       "      <td>1</td>\n",
       "      <td>Central America</td>\n",
       "      <td>desktop</td>\n",
       "      <td>False</td>\n",
       "      <td>Windows</td>\n",
       "      <td>organic</td>\n",
       "    </tr>\n",
       "  </tbody>\n",
       "</table>\n",
       "<p>5 rows × 22 columns</p>\n",
       "</div>"
      ],
      "text/plain": [
       "  channelGrouping      date        fullVisitorId  socialEngagementType  \\\n",
       "0  Organic Search  20171016  3162355547410993243  Not Socially Engaged   \n",
       "1        Referral  20171016  8934116514970143966  Not Socially Engaged   \n",
       "2          Direct  20171016  7992466427990357681  Not Socially Engaged   \n",
       "3  Organic Search  20171016  9075655783635761930  Not Socially Engaged   \n",
       "4  Organic Search  20171016  6960673291025684308  Not Socially Engaged   \n",
       "\n",
       "      visitId  visitNumber  visitStartTime  totals_bounces  totals_hits  \\\n",
       "0  1508198450            1      1508198450             1.0            1   \n",
       "1  1508176307            6      1508176307             NaN            2   \n",
       "2  1508201613            1      1508201613             NaN            2   \n",
       "3  1508169851            1      1508169851             NaN            2   \n",
       "4  1508190552            1      1508190552             NaN            2   \n",
       "\n",
       "   totals_newVisits    ...     totals_timeOnSite  \\\n",
       "0               1.0    ...                   NaN   \n",
       "1               NaN    ...                  28.0   \n",
       "2               1.0    ...                  38.0   \n",
       "3               1.0    ...                   1.0   \n",
       "4               1.0    ...                  52.0   \n",
       "\n",
       "   totals_totalTransactionRevenue  totals_transactionRevenue  \\\n",
       "0                             NaN                        NaN   \n",
       "1                             NaN                        NaN   \n",
       "2                             NaN                        NaN   \n",
       "3                             NaN                        NaN   \n",
       "4                             NaN                        NaN   \n",
       "\n",
       "   totals_transactions  totals_visits            value  deviceCategory  \\\n",
       "0                  NaN              1             EMEA         desktop   \n",
       "1                  NaN              1    North America         desktop   \n",
       "2                  NaN              1    North America          mobile   \n",
       "3                  NaN              1             EMEA         desktop   \n",
       "4                  NaN              1  Central America         desktop   \n",
       "\n",
       "  isMobile operatingSystem    medium  \n",
       "0    False         Windows   organic  \n",
       "1    False       Chrome OS  referral  \n",
       "2     True         Android    (none)  \n",
       "3    False         Windows   organic  \n",
       "4    False         Windows   organic  \n",
       "\n",
       "[5 rows x 22 columns]"
      ]
     },
     "execution_count": 223,
     "metadata": {},
     "output_type": "execute_result"
    }
   ],
   "source": [
    "data = data.join(d1)\n",
    "data = data.join(d2)\n",
    "data = data.join(d4)\n",
    "data.head()"
   ]
  },
  {
   "cell_type": "markdown",
   "metadata": {},
   "source": [
    "For regression I need categorical or numeric input variables. For clustering I need only numeric data. So I will drop a few more columns: date, fullVisitorId, socialEngagementType, visitId, visitStartTime as they are neither categorical nor numeric.\n",
    "\n",
    "I will also drop the medium column as it essentially is the same as channelGrouping. If I use both the columns, it will lead to the problem of multicollinearity."
   ]
  },
  {
   "cell_type": "code",
   "execution_count": 224,
   "metadata": {},
   "outputs": [],
   "source": [
    "data_copy2 = data\n",
    "data = data.drop(['date','fullVisitorId','socialEngagementType','visitId', 'visitStartTime', 'medium' ], axis = 1)"
   ]
  },
  {
   "cell_type": "markdown",
   "metadata": {},
   "source": [
    "6. Replace all NaNs with 0"
   ]
  },
  {
   "cell_type": "code",
   "execution_count": 225,
   "metadata": {},
   "outputs": [
    {
     "data": {
      "text/html": [
       "<div>\n",
       "<style scoped>\n",
       "    .dataframe tbody tr th:only-of-type {\n",
       "        vertical-align: middle;\n",
       "    }\n",
       "\n",
       "    .dataframe tbody tr th {\n",
       "        vertical-align: top;\n",
       "    }\n",
       "\n",
       "    .dataframe thead th {\n",
       "        text-align: right;\n",
       "    }\n",
       "</style>\n",
       "<table border=\"1\" class=\"dataframe\">\n",
       "  <thead>\n",
       "    <tr style=\"text-align: right;\">\n",
       "      <th></th>\n",
       "      <th>channelGrouping</th>\n",
       "      <th>visitNumber</th>\n",
       "      <th>totals_bounces</th>\n",
       "      <th>totals_hits</th>\n",
       "      <th>totals_newVisits</th>\n",
       "      <th>totals_pageviews</th>\n",
       "      <th>totals_sessionQualityDim</th>\n",
       "      <th>totals_timeOnSite</th>\n",
       "      <th>totals_totalTransactionRevenue</th>\n",
       "      <th>totals_transactionRevenue</th>\n",
       "      <th>totals_transactions</th>\n",
       "      <th>totals_visits</th>\n",
       "      <th>value</th>\n",
       "      <th>deviceCategory</th>\n",
       "      <th>isMobile</th>\n",
       "      <th>operatingSystem</th>\n",
       "    </tr>\n",
       "  </thead>\n",
       "  <tbody>\n",
       "    <tr>\n",
       "      <th>0</th>\n",
       "      <td>Organic Search</td>\n",
       "      <td>1</td>\n",
       "      <td>1.0</td>\n",
       "      <td>1</td>\n",
       "      <td>1.0</td>\n",
       "      <td>1.0</td>\n",
       "      <td>1.0</td>\n",
       "      <td>0.0</td>\n",
       "      <td>0.0</td>\n",
       "      <td>0.0</td>\n",
       "      <td>0.0</td>\n",
       "      <td>1</td>\n",
       "      <td>EMEA</td>\n",
       "      <td>desktop</td>\n",
       "      <td>False</td>\n",
       "      <td>Windows</td>\n",
       "    </tr>\n",
       "    <tr>\n",
       "      <th>1</th>\n",
       "      <td>Referral</td>\n",
       "      <td>6</td>\n",
       "      <td>0.0</td>\n",
       "      <td>2</td>\n",
       "      <td>0.0</td>\n",
       "      <td>2.0</td>\n",
       "      <td>2.0</td>\n",
       "      <td>28.0</td>\n",
       "      <td>0.0</td>\n",
       "      <td>0.0</td>\n",
       "      <td>0.0</td>\n",
       "      <td>1</td>\n",
       "      <td>North America</td>\n",
       "      <td>desktop</td>\n",
       "      <td>False</td>\n",
       "      <td>Chrome OS</td>\n",
       "    </tr>\n",
       "    <tr>\n",
       "      <th>2</th>\n",
       "      <td>Direct</td>\n",
       "      <td>1</td>\n",
       "      <td>0.0</td>\n",
       "      <td>2</td>\n",
       "      <td>1.0</td>\n",
       "      <td>2.0</td>\n",
       "      <td>1.0</td>\n",
       "      <td>38.0</td>\n",
       "      <td>0.0</td>\n",
       "      <td>0.0</td>\n",
       "      <td>0.0</td>\n",
       "      <td>1</td>\n",
       "      <td>North America</td>\n",
       "      <td>mobile</td>\n",
       "      <td>True</td>\n",
       "      <td>Android</td>\n",
       "    </tr>\n",
       "    <tr>\n",
       "      <th>3</th>\n",
       "      <td>Organic Search</td>\n",
       "      <td>1</td>\n",
       "      <td>0.0</td>\n",
       "      <td>2</td>\n",
       "      <td>1.0</td>\n",
       "      <td>2.0</td>\n",
       "      <td>1.0</td>\n",
       "      <td>1.0</td>\n",
       "      <td>0.0</td>\n",
       "      <td>0.0</td>\n",
       "      <td>0.0</td>\n",
       "      <td>1</td>\n",
       "      <td>EMEA</td>\n",
       "      <td>desktop</td>\n",
       "      <td>False</td>\n",
       "      <td>Windows</td>\n",
       "    </tr>\n",
       "    <tr>\n",
       "      <th>4</th>\n",
       "      <td>Organic Search</td>\n",
       "      <td>1</td>\n",
       "      <td>0.0</td>\n",
       "      <td>2</td>\n",
       "      <td>1.0</td>\n",
       "      <td>2.0</td>\n",
       "      <td>1.0</td>\n",
       "      <td>52.0</td>\n",
       "      <td>0.0</td>\n",
       "      <td>0.0</td>\n",
       "      <td>0.0</td>\n",
       "      <td>1</td>\n",
       "      <td>Central America</td>\n",
       "      <td>desktop</td>\n",
       "      <td>False</td>\n",
       "      <td>Windows</td>\n",
       "    </tr>\n",
       "  </tbody>\n",
       "</table>\n",
       "</div>"
      ],
      "text/plain": [
       "  channelGrouping  visitNumber  totals_bounces  totals_hits  totals_newVisits  \\\n",
       "0  Organic Search            1             1.0            1               1.0   \n",
       "1        Referral            6             0.0            2               0.0   \n",
       "2          Direct            1             0.0            2               1.0   \n",
       "3  Organic Search            1             0.0            2               1.0   \n",
       "4  Organic Search            1             0.0            2               1.0   \n",
       "\n",
       "   totals_pageviews  totals_sessionQualityDim  totals_timeOnSite  \\\n",
       "0               1.0                       1.0                0.0   \n",
       "1               2.0                       2.0               28.0   \n",
       "2               2.0                       1.0               38.0   \n",
       "3               2.0                       1.0                1.0   \n",
       "4               2.0                       1.0               52.0   \n",
       "\n",
       "   totals_totalTransactionRevenue  totals_transactionRevenue  \\\n",
       "0                             0.0                        0.0   \n",
       "1                             0.0                        0.0   \n",
       "2                             0.0                        0.0   \n",
       "3                             0.0                        0.0   \n",
       "4                             0.0                        0.0   \n",
       "\n",
       "   totals_transactions  totals_visits            value deviceCategory  \\\n",
       "0                  0.0              1             EMEA        desktop   \n",
       "1                  0.0              1    North America        desktop   \n",
       "2                  0.0              1    North America         mobile   \n",
       "3                  0.0              1             EMEA        desktop   \n",
       "4                  0.0              1  Central America        desktop   \n",
       "\n",
       "   isMobile operatingSystem  \n",
       "0     False         Windows  \n",
       "1     False       Chrome OS  \n",
       "2      True         Android  \n",
       "3     False         Windows  \n",
       "4     False         Windows  "
      ]
     },
     "execution_count": 225,
     "metadata": {},
     "output_type": "execute_result"
    }
   ],
   "source": [
    "data.fillna(value = 0, inplace = True)\n",
    "data.head()"
   ]
  },
  {
   "cell_type": "markdown",
   "metadata": {},
   "source": [
    "7. Exploratory Visualizations"
   ]
  },
  {
   "cell_type": "code",
   "execution_count": 23,
   "metadata": {},
   "outputs": [],
   "source": [
    "%matplotlib inline"
   ]
  },
  {
   "cell_type": "code",
   "execution_count": 24,
   "metadata": {},
   "outputs": [
    {
     "data": {
      "text/plain": [
       "<matplotlib.axes._subplots.AxesSubplot at 0x2dd09884b38>"
      ]
     },
     "execution_count": 24,
     "metadata": {},
     "output_type": "execute_result"
    },
    {
     "data": {
      "image/png": "[encoded data removed]",
      "text/plain": [
       "<Figure size 432x288 with 1 Axes>"
      ]
     },
     "metadata": {},
     "output_type": "display_data"
    }
   ],
   "source": [
    "data['totals_transactionRevenue'].plot()"
   ]
  },
  {
   "cell_type": "markdown",
   "metadata": {},
   "source": [
    "It can be seen above that for most customers the total transaction revenue is zero. Hence, the data is skewed / imbalanced."
   ]
  },
  {
   "cell_type": "code",
   "execution_count": 25,
   "metadata": {},
   "outputs": [
    {
     "data": {
      "text/plain": [
       "Text(0.5,1,'Time Spent on Google Merchandise Store by Device')"
      ]
     },
     "execution_count": 25,
     "metadata": {},
     "output_type": "execute_result"
    },
    {
     "data": {
      "image/png": "[encoded data removed]",
      "text/plain": [
       "<Figure size 432x288 with 1 Axes>"
      ]
     },
     "metadata": {},
     "output_type": "display_data"
    }
   ],
   "source": [
    "g = data.groupby('deviceCategory').mean()['totals_timeOnSite']\n",
    "plt.bar(data['deviceCategory'].unique(),g,alpha = 0.4)\n",
    "plt.xlabel('Device Category')\n",
    "plt.ylabel('Average Time')\n",
    "plt.title('Time Spent on Google Merchandise Store by Device')"
   ]
  },
  {
   "cell_type": "markdown",
   "metadata": {},
   "source": [
    "Hence, it can be seen that users who use a Desktop on average spend much more time on the website than those who use mobiles and tablets."
   ]
  },
  {
   "cell_type": "markdown",
   "metadata": {},
   "source": [
    "8. Data Scaling"
   ]
  },
  {
   "cell_type": "markdown",
   "metadata": {},
   "source": [
    "All numerical features of the dataset need to be scaled so that all features have the same weight when computing Euclidian distances."
   ]
  },
  {
   "cell_type": "code",
   "execution_count": 226,
   "metadata": {},
   "outputs": [],
   "source": [
    "data_forscaling = data[['visitNumber','totals_bounces','totals_hits','totals_newVisits','totals_pageviews','totals_sessionQualityDim','totals_timeOnSite','totals_totalTransactionRevenue','totals_transactionRevenue']]"
   ]
  },
  {
   "cell_type": "markdown",
   "metadata": {},
   "source": [
    "I prefer the MinMaxScaler as all values for a feature are restricted to values between 0 and 1. This sort of a result is very easy to interpret."
   ]
  },
  {
   "cell_type": "code",
   "execution_count": 227,
   "metadata": {},
   "outputs": [
    {
     "name": "stderr",
     "output_type": "stream",
     "text": [
      "C:\\Users\\Aditya\\Anaconda3\\lib\\site-packages\\sklearn\\preprocessing\\data.py:323: DataConversionWarning: Data with input dtype int64, float64 were all converted to float64 by MinMaxScaler.\n",
      "  return self.partial_fit(X, y)\n"
     ]
    }
   ],
   "source": [
    "from sklearn.preprocessing import StandardScaler, MinMaxScaler\n",
    "sc = MinMaxScaler()\n",
    "data_scaled = sc.fit_transform(data_forscaling)"
   ]
  },
  {
   "cell_type": "code",
   "execution_count": 228,
   "metadata": {},
   "outputs": [
    {
     "data": {
      "text/html": [
       "<div>\n",
       "<style scoped>\n",
       "    .dataframe tbody tr th:only-of-type {\n",
       "        vertical-align: middle;\n",
       "    }\n",
       "\n",
       "    .dataframe tbody tr th {\n",
       "        vertical-align: top;\n",
       "    }\n",
       "\n",
       "    .dataframe thead th {\n",
       "        text-align: right;\n",
       "    }\n",
       "</style>\n",
       "<table border=\"1\" class=\"dataframe\">\n",
       "  <thead>\n",
       "    <tr style=\"text-align: right;\">\n",
       "      <th></th>\n",
       "      <th>0</th>\n",
       "      <th>1</th>\n",
       "      <th>2</th>\n",
       "      <th>3</th>\n",
       "      <th>4</th>\n",
       "      <th>5</th>\n",
       "      <th>6</th>\n",
       "      <th>7</th>\n",
       "      <th>8</th>\n",
       "    </tr>\n",
       "  </thead>\n",
       "  <tbody>\n",
       "    <tr>\n",
       "      <th>0</th>\n",
       "      <td>0.0000</td>\n",
       "      <td>1.0</td>\n",
       "      <td>0.000000</td>\n",
       "      <td>1.0</td>\n",
       "      <td>0.006061</td>\n",
       "      <td>0.010417</td>\n",
       "      <td>0.000000</td>\n",
       "      <td>0.0</td>\n",
       "      <td>0.0</td>\n",
       "    </tr>\n",
       "    <tr>\n",
       "      <th>1</th>\n",
       "      <td>0.0125</td>\n",
       "      <td>0.0</td>\n",
       "      <td>0.004386</td>\n",
       "      <td>0.0</td>\n",
       "      <td>0.012121</td>\n",
       "      <td>0.020833</td>\n",
       "      <td>0.005042</td>\n",
       "      <td>0.0</td>\n",
       "      <td>0.0</td>\n",
       "    </tr>\n",
       "    <tr>\n",
       "      <th>2</th>\n",
       "      <td>0.0000</td>\n",
       "      <td>0.0</td>\n",
       "      <td>0.004386</td>\n",
       "      <td>1.0</td>\n",
       "      <td>0.012121</td>\n",
       "      <td>0.010417</td>\n",
       "      <td>0.006843</td>\n",
       "      <td>0.0</td>\n",
       "      <td>0.0</td>\n",
       "    </tr>\n",
       "  </tbody>\n",
       "</table>\n",
       "</div>"
      ],
      "text/plain": [
       "        0    1         2    3         4         5         6    7    8\n",
       "0  0.0000  1.0  0.000000  1.0  0.006061  0.010417  0.000000  0.0  0.0\n",
       "1  0.0125  0.0  0.004386  0.0  0.012121  0.020833  0.005042  0.0  0.0\n",
       "2  0.0000  0.0  0.004386  1.0  0.012121  0.010417  0.006843  0.0  0.0"
      ]
     },
     "execution_count": 228,
     "metadata": {},
     "output_type": "execute_result"
    }
   ],
   "source": [
    "data_scaleddf = pd.DataFrame(data_scaled)\n",
    "data_scaleddf.head(3)"
   ]
  },
  {
   "cell_type": "code",
   "execution_count": 229,
   "metadata": {},
   "outputs": [
    {
     "data": {
      "text/html": [
       "<div>\n",
       "<style scoped>\n",
       "    .dataframe tbody tr th:only-of-type {\n",
       "        vertical-align: middle;\n",
       "    }\n",
       "\n",
       "    .dataframe tbody tr th {\n",
       "        vertical-align: top;\n",
       "    }\n",
       "\n",
       "    .dataframe thead th {\n",
       "        text-align: right;\n",
       "    }\n",
       "</style>\n",
       "<table border=\"1\" class=\"dataframe\">\n",
       "  <thead>\n",
       "    <tr style=\"text-align: right;\">\n",
       "      <th></th>\n",
       "      <th>visitNumber</th>\n",
       "      <th>totals_bounces</th>\n",
       "      <th>totals_hits</th>\n",
       "      <th>totals_newVisits</th>\n",
       "      <th>totals_pageviews</th>\n",
       "      <th>totals_sessionQualityDim</th>\n",
       "      <th>totals_timeOnSite</th>\n",
       "      <th>totals_totalTransactionRevenue</th>\n",
       "      <th>totals_transactionRevenue</th>\n",
       "    </tr>\n",
       "  </thead>\n",
       "  <tbody>\n",
       "    <tr>\n",
       "      <th>0</th>\n",
       "      <td>0.0000</td>\n",
       "      <td>1.0</td>\n",
       "      <td>0.000000</td>\n",
       "      <td>1.0</td>\n",
       "      <td>0.006061</td>\n",
       "      <td>0.010417</td>\n",
       "      <td>0.000000</td>\n",
       "      <td>0.0</td>\n",
       "      <td>0.0</td>\n",
       "    </tr>\n",
       "    <tr>\n",
       "      <th>1</th>\n",
       "      <td>0.0125</td>\n",
       "      <td>0.0</td>\n",
       "      <td>0.004386</td>\n",
       "      <td>0.0</td>\n",
       "      <td>0.012121</td>\n",
       "      <td>0.020833</td>\n",
       "      <td>0.005042</td>\n",
       "      <td>0.0</td>\n",
       "      <td>0.0</td>\n",
       "    </tr>\n",
       "    <tr>\n",
       "      <th>2</th>\n",
       "      <td>0.0000</td>\n",
       "      <td>0.0</td>\n",
       "      <td>0.004386</td>\n",
       "      <td>1.0</td>\n",
       "      <td>0.012121</td>\n",
       "      <td>0.010417</td>\n",
       "      <td>0.006843</td>\n",
       "      <td>0.0</td>\n",
       "      <td>0.0</td>\n",
       "    </tr>\n",
       "  </tbody>\n",
       "</table>\n",
       "</div>"
      ],
      "text/plain": [
       "   visitNumber  totals_bounces  totals_hits  totals_newVisits  \\\n",
       "0       0.0000             1.0     0.000000               1.0   \n",
       "1       0.0125             0.0     0.004386               0.0   \n",
       "2       0.0000             0.0     0.004386               1.0   \n",
       "\n",
       "   totals_pageviews  totals_sessionQualityDim  totals_timeOnSite  \\\n",
       "0          0.006061                  0.010417           0.000000   \n",
       "1          0.012121                  0.020833           0.005042   \n",
       "2          0.012121                  0.010417           0.006843   \n",
       "\n",
       "   totals_totalTransactionRevenue  totals_transactionRevenue  \n",
       "0                             0.0                        0.0  \n",
       "1                             0.0                        0.0  \n",
       "2                             0.0                        0.0  "
      ]
     },
     "execution_count": 229,
     "metadata": {},
     "output_type": "execute_result"
    }
   ],
   "source": [
    "data_scaleddf.columns =['visitNumber','totals_bounces','totals_hits','totals_newVisits','totals_pageviews','totals_sessionQualityDim','totals_timeOnSite','totals_totalTransactionRevenue','totals_transactionRevenue']\n",
    "data_scaleddf.head(3)"
   ]
  },
  {
   "cell_type": "markdown",
   "metadata": {},
   "source": [
    "### Supervised Learning - Linear Regression"
   ]
  },
  {
   "cell_type": "code",
   "execution_count": 230,
   "metadata": {},
   "outputs": [
    {
     "data": {
      "text/html": [
       "<div>\n",
       "<style scoped>\n",
       "    .dataframe tbody tr th:only-of-type {\n",
       "        vertical-align: middle;\n",
       "    }\n",
       "\n",
       "    .dataframe tbody tr th {\n",
       "        vertical-align: top;\n",
       "    }\n",
       "\n",
       "    .dataframe thead th {\n",
       "        text-align: right;\n",
       "    }\n",
       "</style>\n",
       "<table border=\"1\" class=\"dataframe\">\n",
       "  <thead>\n",
       "    <tr style=\"text-align: right;\">\n",
       "      <th></th>\n",
       "      <th>channelGrouping</th>\n",
       "      <th>totals_transactions</th>\n",
       "      <th>value</th>\n",
       "      <th>deviceCategory</th>\n",
       "      <th>isMobile</th>\n",
       "      <th>operatingSystem</th>\n",
       "      <th>visitNumber</th>\n",
       "      <th>totals_bounces</th>\n",
       "      <th>totals_hits</th>\n",
       "      <th>totals_newVisits</th>\n",
       "      <th>totals_pageviews</th>\n",
       "      <th>totals_sessionQualityDim</th>\n",
       "      <th>totals_timeOnSite</th>\n",
       "      <th>totals_totalTransactionRevenue</th>\n",
       "      <th>totals_transactionRevenue</th>\n",
       "    </tr>\n",
       "  </thead>\n",
       "  <tbody>\n",
       "    <tr>\n",
       "      <th>0</th>\n",
       "      <td>Organic Search</td>\n",
       "      <td>0.0</td>\n",
       "      <td>EMEA</td>\n",
       "      <td>desktop</td>\n",
       "      <td>False</td>\n",
       "      <td>Windows</td>\n",
       "      <td>0.0000</td>\n",
       "      <td>1.0</td>\n",
       "      <td>0.000000</td>\n",
       "      <td>1.0</td>\n",
       "      <td>0.006061</td>\n",
       "      <td>0.010417</td>\n",
       "      <td>0.000000</td>\n",
       "      <td>0.0</td>\n",
       "      <td>0.0</td>\n",
       "    </tr>\n",
       "    <tr>\n",
       "      <th>1</th>\n",
       "      <td>Referral</td>\n",
       "      <td>0.0</td>\n",
       "      <td>North America</td>\n",
       "      <td>desktop</td>\n",
       "      <td>False</td>\n",
       "      <td>Chrome OS</td>\n",
       "      <td>0.0125</td>\n",
       "      <td>0.0</td>\n",
       "      <td>0.004386</td>\n",
       "      <td>0.0</td>\n",
       "      <td>0.012121</td>\n",
       "      <td>0.020833</td>\n",
       "      <td>0.005042</td>\n",
       "      <td>0.0</td>\n",
       "      <td>0.0</td>\n",
       "    </tr>\n",
       "    <tr>\n",
       "      <th>2</th>\n",
       "      <td>Direct</td>\n",
       "      <td>0.0</td>\n",
       "      <td>North America</td>\n",
       "      <td>mobile</td>\n",
       "      <td>True</td>\n",
       "      <td>Android</td>\n",
       "      <td>0.0000</td>\n",
       "      <td>0.0</td>\n",
       "      <td>0.004386</td>\n",
       "      <td>1.0</td>\n",
       "      <td>0.012121</td>\n",
       "      <td>0.010417</td>\n",
       "      <td>0.006843</td>\n",
       "      <td>0.0</td>\n",
       "      <td>0.0</td>\n",
       "    </tr>\n",
       "  </tbody>\n",
       "</table>\n",
       "</div>"
      ],
      "text/plain": [
       "  channelGrouping  totals_transactions          value deviceCategory  \\\n",
       "0  Organic Search                  0.0           EMEA        desktop   \n",
       "1        Referral                  0.0  North America        desktop   \n",
       "2          Direct                  0.0  North America         mobile   \n",
       "\n",
       "   isMobile operatingSystem  visitNumber  totals_bounces  totals_hits  \\\n",
       "0     False         Windows       0.0000             1.0     0.000000   \n",
       "1     False       Chrome OS       0.0125             0.0     0.004386   \n",
       "2      True         Android       0.0000             0.0     0.004386   \n",
       "\n",
       "   totals_newVisits  totals_pageviews  totals_sessionQualityDim  \\\n",
       "0               1.0          0.006061                  0.010417   \n",
       "1               0.0          0.012121                  0.020833   \n",
       "2               1.0          0.012121                  0.010417   \n",
       "\n",
       "   totals_timeOnSite  totals_totalTransactionRevenue  \\\n",
       "0           0.000000                             0.0   \n",
       "1           0.005042                             0.0   \n",
       "2           0.006843                             0.0   \n",
       "\n",
       "   totals_transactionRevenue  \n",
       "0                        0.0  \n",
       "1                        0.0  \n",
       "2                        0.0  "
      ]
     },
     "execution_count": 230,
     "metadata": {},
     "output_type": "execute_result"
    }
   ],
   "source": [
    "data_LReg = data.drop(['visitNumber','totals_bounces','totals_hits','totals_newVisits','totals_pageviews','totals_sessionQualityDim','totals_timeOnSite','totals_totalTransactionRevenue','totals_transactionRevenue','totals_visits'], axis =1)\n",
    "data_LReg = data_LReg.join(data_scaleddf)\n",
    "data_LReg.head(3)"
   ]
  },
  {
   "cell_type": "markdown",
   "metadata": {},
   "source": [
    "Create dummy variables for categorical features"
   ]
  },
  {
   "cell_type": "code",
   "execution_count": 231,
   "metadata": {},
   "outputs": [],
   "source": [
    "dv1 = pd.get_dummies(data_LReg['channelGrouping'])\n",
    "dv2 = pd.get_dummies(data_LReg['value'])\n",
    "dv3 = pd.get_dummies(data_LReg['deviceCategory'])\n",
    "#dv4 = pd.get_dummies(data_LReg['isMobile'])\n",
    "#dv5 = pd.get_dummies(data_LReg['operatingSystem'])"
   ]
  },
  {
   "cell_type": "markdown",
   "metadata": {},
   "source": [
    "For each of the dummy variables we need to set a baseline reference. I will consider the first dummy column of each variable as the baseline reference."
   ]
  },
  {
   "cell_type": "code",
   "execution_count": 232,
   "metadata": {},
   "outputs": [],
   "source": [
    "dv1 = dv1.iloc[:,1:]\n",
    "dv2 = dv2.iloc[:,1:]\n",
    "dv3 = dv3.iloc[:,1:]\n",
    "#dv4 = dv4.iloc[:,1:]\n",
    "#dv5 = dv5.iloc[:,1:]"
   ]
  },
  {
   "cell_type": "markdown",
   "metadata": {},
   "source": [
    "Drop the categorical features from the main dataset and replace with binary encoded dummy variables"
   ]
  },
  {
   "cell_type": "code",
   "execution_count": 233,
   "metadata": {},
   "outputs": [],
   "source": [
    "data_LReg = data_LReg.drop(['channelGrouping', 'value', 'deviceCategory', 'isMobile', 'operatingSystem'], axis = 1)\n",
    "data_LReg = data_LReg.join(dv1)\n",
    "data_LReg = data_LReg.join(dv2)\n",
    "data_LReg = data_LReg.join(dv3)\n",
    "#data_LReg = data_LReg.join(dv4)\n",
    "#data_LReg = data_LReg.join(dv5)"
   ]
  },
  {
   "cell_type": "code",
   "execution_count": 167,
   "metadata": {},
   "outputs": [
    {
     "data": {
      "text/html": [
       "<div>\n",
       "<style scoped>\n",
       "    .dataframe tbody tr th:only-of-type {\n",
       "        vertical-align: middle;\n",
       "    }\n",
       "\n",
       "    .dataframe tbody tr th {\n",
       "        vertical-align: top;\n",
       "    }\n",
       "\n",
       "    .dataframe thead th {\n",
       "        text-align: right;\n",
       "    }\n",
       "</style>\n",
       "<table border=\"1\" class=\"dataframe\">\n",
       "  <thead>\n",
       "    <tr style=\"text-align: right;\">\n",
       "      <th></th>\n",
       "      <th>totals_transactions</th>\n",
       "      <th>visitNumber</th>\n",
       "      <th>totals_bounces</th>\n",
       "      <th>totals_hits</th>\n",
       "      <th>totals_newVisits</th>\n",
       "      <th>totals_pageviews</th>\n",
       "      <th>totals_sessionQualityDim</th>\n",
       "      <th>totals_timeOnSite</th>\n",
       "      <th>totals_totalTransactionRevenue</th>\n",
       "      <th>totals_transactionRevenue</th>\n",
       "      <th>...</th>\n",
       "      <th>Paid Search</th>\n",
       "      <th>Referral</th>\n",
       "      <th>Social</th>\n",
       "      <th>APAC</th>\n",
       "      <th>Central America</th>\n",
       "      <th>EMEA</th>\n",
       "      <th>North America</th>\n",
       "      <th>South America</th>\n",
       "      <th>mobile</th>\n",
       "      <th>tablet</th>\n",
       "    </tr>\n",
       "  </thead>\n",
       "  <tbody>\n",
       "    <tr>\n",
       "      <th>0</th>\n",
       "      <td>0.0</td>\n",
       "      <td>0.0000</td>\n",
       "      <td>1.0</td>\n",
       "      <td>0.000000</td>\n",
       "      <td>1.0</td>\n",
       "      <td>0.006061</td>\n",
       "      <td>0.010417</td>\n",
       "      <td>0.000000</td>\n",
       "      <td>0.0</td>\n",
       "      <td>0.0</td>\n",
       "      <td>...</td>\n",
       "      <td>0</td>\n",
       "      <td>0</td>\n",
       "      <td>0</td>\n",
       "      <td>0</td>\n",
       "      <td>0</td>\n",
       "      <td>1</td>\n",
       "      <td>0</td>\n",
       "      <td>0</td>\n",
       "      <td>0</td>\n",
       "      <td>0</td>\n",
       "    </tr>\n",
       "    <tr>\n",
       "      <th>1</th>\n",
       "      <td>0.0</td>\n",
       "      <td>0.0125</td>\n",
       "      <td>0.0</td>\n",
       "      <td>0.004386</td>\n",
       "      <td>0.0</td>\n",
       "      <td>0.012121</td>\n",
       "      <td>0.020833</td>\n",
       "      <td>0.005042</td>\n",
       "      <td>0.0</td>\n",
       "      <td>0.0</td>\n",
       "      <td>...</td>\n",
       "      <td>0</td>\n",
       "      <td>1</td>\n",
       "      <td>0</td>\n",
       "      <td>0</td>\n",
       "      <td>0</td>\n",
       "      <td>0</td>\n",
       "      <td>1</td>\n",
       "      <td>0</td>\n",
       "      <td>0</td>\n",
       "      <td>0</td>\n",
       "    </tr>\n",
       "    <tr>\n",
       "      <th>2</th>\n",
       "      <td>0.0</td>\n",
       "      <td>0.0000</td>\n",
       "      <td>0.0</td>\n",
       "      <td>0.004386</td>\n",
       "      <td>1.0</td>\n",
       "      <td>0.012121</td>\n",
       "      <td>0.010417</td>\n",
       "      <td>0.006843</td>\n",
       "      <td>0.0</td>\n",
       "      <td>0.0</td>\n",
       "      <td>...</td>\n",
       "      <td>0</td>\n",
       "      <td>0</td>\n",
       "      <td>0</td>\n",
       "      <td>0</td>\n",
       "      <td>0</td>\n",
       "      <td>0</td>\n",
       "      <td>1</td>\n",
       "      <td>0</td>\n",
       "      <td>1</td>\n",
       "      <td>0</td>\n",
       "    </tr>\n",
       "  </tbody>\n",
       "</table>\n",
       "<p>3 rows × 23 columns</p>\n",
       "</div>"
      ],
      "text/plain": [
       "   totals_transactions  visitNumber  totals_bounces  totals_hits  \\\n",
       "0                  0.0       0.0000             1.0     0.000000   \n",
       "1                  0.0       0.0125             0.0     0.004386   \n",
       "2                  0.0       0.0000             0.0     0.004386   \n",
       "\n",
       "   totals_newVisits  totals_pageviews  totals_sessionQualityDim  \\\n",
       "0               1.0          0.006061                  0.010417   \n",
       "1               0.0          0.012121                  0.020833   \n",
       "2               1.0          0.012121                  0.010417   \n",
       "\n",
       "   totals_timeOnSite  totals_totalTransactionRevenue  \\\n",
       "0           0.000000                             0.0   \n",
       "1           0.005042                             0.0   \n",
       "2           0.006843                             0.0   \n",
       "\n",
       "   totals_transactionRevenue   ...    Paid Search  Referral  Social  APAC  \\\n",
       "0                        0.0   ...              0         0       0     0   \n",
       "1                        0.0   ...              0         1       0     0   \n",
       "2                        0.0   ...              0         0       0     0   \n",
       "\n",
       "   Central America  EMEA  North America  South America  mobile  tablet  \n",
       "0                0     1              0              0       0       0  \n",
       "1                0     0              1              0       0       0  \n",
       "2                0     0              1              0       1       0  \n",
       "\n",
       "[3 rows x 23 columns]"
      ]
     },
     "execution_count": 167,
     "metadata": {},
     "output_type": "execute_result"
    }
   ],
   "source": [
    "data_LReg.head(3)"
   ]
  },
  {
   "cell_type": "markdown",
   "metadata": {},
   "source": [
    "### Classifier"
   ]
  },
  {
   "cell_type": "markdown",
   "metadata": {},
   "source": [
    "Convert the target label values to 0s and 1s"
   ]
  },
  {
   "cell_type": "code",
   "execution_count": 234,
   "metadata": {},
   "outputs": [
    {
     "data": {
      "text/html": [
       "<div>\n",
       "<style scoped>\n",
       "    .dataframe tbody tr th:only-of-type {\n",
       "        vertical-align: middle;\n",
       "    }\n",
       "\n",
       "    .dataframe tbody tr th {\n",
       "        vertical-align: top;\n",
       "    }\n",
       "\n",
       "    .dataframe thead th {\n",
       "        text-align: right;\n",
       "    }\n",
       "</style>\n",
       "<table border=\"1\" class=\"dataframe\">\n",
       "  <thead>\n",
       "    <tr style=\"text-align: right;\">\n",
       "      <th></th>\n",
       "      <th>totals_transactions</th>\n",
       "      <th>visitNumber</th>\n",
       "      <th>totals_bounces</th>\n",
       "      <th>totals_hits</th>\n",
       "      <th>totals_newVisits</th>\n",
       "      <th>totals_pageviews</th>\n",
       "      <th>totals_sessionQualityDim</th>\n",
       "      <th>totals_timeOnSite</th>\n",
       "      <th>totals_totalTransactionRevenue</th>\n",
       "      <th>totals_transactionRevenue</th>\n",
       "      <th>...</th>\n",
       "      <th>Referral</th>\n",
       "      <th>Social</th>\n",
       "      <th>APAC</th>\n",
       "      <th>Central America</th>\n",
       "      <th>EMEA</th>\n",
       "      <th>North America</th>\n",
       "      <th>South America</th>\n",
       "      <th>mobile</th>\n",
       "      <th>tablet</th>\n",
       "      <th>RevenueCat</th>\n",
       "    </tr>\n",
       "  </thead>\n",
       "  <tbody>\n",
       "    <tr>\n",
       "      <th>0</th>\n",
       "      <td>0.0</td>\n",
       "      <td>0.0000</td>\n",
       "      <td>1.0</td>\n",
       "      <td>0.000000</td>\n",
       "      <td>1.0</td>\n",
       "      <td>0.006061</td>\n",
       "      <td>0.010417</td>\n",
       "      <td>0.000000</td>\n",
       "      <td>0.0</td>\n",
       "      <td>0.0</td>\n",
       "      <td>...</td>\n",
       "      <td>0</td>\n",
       "      <td>0</td>\n",
       "      <td>0</td>\n",
       "      <td>0</td>\n",
       "      <td>1</td>\n",
       "      <td>0</td>\n",
       "      <td>0</td>\n",
       "      <td>0</td>\n",
       "      <td>0</td>\n",
       "      <td>0</td>\n",
       "    </tr>\n",
       "    <tr>\n",
       "      <th>1</th>\n",
       "      <td>0.0</td>\n",
       "      <td>0.0125</td>\n",
       "      <td>0.0</td>\n",
       "      <td>0.004386</td>\n",
       "      <td>0.0</td>\n",
       "      <td>0.012121</td>\n",
       "      <td>0.020833</td>\n",
       "      <td>0.005042</td>\n",
       "      <td>0.0</td>\n",
       "      <td>0.0</td>\n",
       "      <td>...</td>\n",
       "      <td>1</td>\n",
       "      <td>0</td>\n",
       "      <td>0</td>\n",
       "      <td>0</td>\n",
       "      <td>0</td>\n",
       "      <td>1</td>\n",
       "      <td>0</td>\n",
       "      <td>0</td>\n",
       "      <td>0</td>\n",
       "      <td>0</td>\n",
       "    </tr>\n",
       "    <tr>\n",
       "      <th>2</th>\n",
       "      <td>0.0</td>\n",
       "      <td>0.0000</td>\n",
       "      <td>0.0</td>\n",
       "      <td>0.004386</td>\n",
       "      <td>1.0</td>\n",
       "      <td>0.012121</td>\n",
       "      <td>0.010417</td>\n",
       "      <td>0.006843</td>\n",
       "      <td>0.0</td>\n",
       "      <td>0.0</td>\n",
       "      <td>...</td>\n",
       "      <td>0</td>\n",
       "      <td>0</td>\n",
       "      <td>0</td>\n",
       "      <td>0</td>\n",
       "      <td>0</td>\n",
       "      <td>1</td>\n",
       "      <td>0</td>\n",
       "      <td>1</td>\n",
       "      <td>0</td>\n",
       "      <td>0</td>\n",
       "    </tr>\n",
       "  </tbody>\n",
       "</table>\n",
       "<p>3 rows × 24 columns</p>\n",
       "</div>"
      ],
      "text/plain": [
       "   totals_transactions  visitNumber  totals_bounces  totals_hits  \\\n",
       "0                  0.0       0.0000             1.0     0.000000   \n",
       "1                  0.0       0.0125             0.0     0.004386   \n",
       "2                  0.0       0.0000             0.0     0.004386   \n",
       "\n",
       "   totals_newVisits  totals_pageviews  totals_sessionQualityDim  \\\n",
       "0               1.0          0.006061                  0.010417   \n",
       "1               0.0          0.012121                  0.020833   \n",
       "2               1.0          0.012121                  0.010417   \n",
       "\n",
       "   totals_timeOnSite  totals_totalTransactionRevenue  \\\n",
       "0           0.000000                             0.0   \n",
       "1           0.005042                             0.0   \n",
       "2           0.006843                             0.0   \n",
       "\n",
       "   totals_transactionRevenue     ...      Referral  Social  APAC  \\\n",
       "0                        0.0     ...             0       0     0   \n",
       "1                        0.0     ...             1       0     0   \n",
       "2                        0.0     ...             0       0     0   \n",
       "\n",
       "   Central America  EMEA  North America  South America  mobile  tablet  \\\n",
       "0                0     1              0              0       0       0   \n",
       "1                0     0              1              0       0       0   \n",
       "2                0     0              1              0       1       0   \n",
       "\n",
       "   RevenueCat  \n",
       "0           0  \n",
       "1           0  \n",
       "2           0  \n",
       "\n",
       "[3 rows x 24 columns]"
      ]
     },
     "execution_count": 234,
     "metadata": {},
     "output_type": "execute_result"
    }
   ],
   "source": [
    "data_LReg['RevenueCat'] = data_LReg['totals_transactions'].apply(lambda x: 1 if x>0 else 0)\n",
    "data_LReg.head(3)"
   ]
  },
  {
   "cell_type": "markdown",
   "metadata": {},
   "source": [
    "Create a new df where you remove total_transactions(because u created masked column) and RevenueCat because you will predict it"
   ]
  },
  {
   "cell_type": "code",
   "execution_count": 235,
   "metadata": {},
   "outputs": [],
   "source": [
    "df_classifier = data_LReg.drop(['totals_transactions','totals_totalTransactionRevenue','totals_transactionRevenue'],axis =1)"
   ]
  },
  {
   "cell_type": "markdown",
   "metadata": {},
   "source": [
    "Extract features & target variable"
   ]
  },
  {
   "cell_type": "code",
   "execution_count": 236,
   "metadata": {},
   "outputs": [],
   "source": [
    "X = df_classifier.drop(['RevenueCat'],axis =1)\n",
    "y = df_classifier['RevenueCat']"
   ]
  },
  {
   "cell_type": "markdown",
   "metadata": {},
   "source": [
    "Split data into training and test sets"
   ]
  },
  {
   "cell_type": "code",
   "execution_count": 237,
   "metadata": {},
   "outputs": [],
   "source": [
    "X_train_GNB, X_test_GNB, y_train_GNB, y_test_GNB = train_test_split(X, y, test_size = 0.2, random_state = 0)"
   ]
  },
  {
   "cell_type": "code",
   "execution_count": 191,
   "metadata": {},
   "outputs": [
    {
     "data": {
      "text/plain": [
       "Index(['visitNumber', 'totals_bounces', 'totals_hits', 'totals_newVisits',\n",
       "       'totals_pageviews', 'totals_sessionQualityDim', 'totals_timeOnSite',\n",
       "       'Direct', 'Display', 'Organic Search', 'Paid Search', 'Referral',\n",
       "       'Social', 'APAC', 'Central America', 'EMEA', 'North America',\n",
       "       'South America', 'mobile', 'tablet'],\n",
       "      dtype='object')"
      ]
     },
     "execution_count": 191,
     "metadata": {},
     "output_type": "execute_result"
    }
   ],
   "source": [
    "X.columns"
   ]
  },
  {
   "cell_type": "markdown",
   "metadata": {},
   "source": [
    "Call an instance of the model and fit on training data"
   ]
  },
  {
   "cell_type": "code",
   "execution_count": 238,
   "metadata": {},
   "outputs": [
    {
     "data": {
      "text/plain": [
       "DecisionTreeClassifier(class_weight=None, criterion='gini', max_depth=None,\n",
       "            max_features=None, max_leaf_nodes=None,\n",
       "            min_impurity_decrease=0.0, min_impurity_split=None,\n",
       "            min_samples_leaf=1, min_samples_split=2,\n",
       "            min_weight_fraction_leaf=0.0, presort=False, random_state=None,\n",
       "            splitter='best')"
      ]
     },
     "execution_count": 238,
     "metadata": {},
     "output_type": "execute_result"
    }
   ],
   "source": [
    "from sklearn.naive_bayes import GaussianNB\n",
    "\n",
    "modelgnb = DecisionTreeClassifier()     \n",
    "modelgnb.fit(X_train_GNB, y_train_GNB)"
   ]
  },
  {
   "cell_type": "markdown",
   "metadata": {},
   "source": [
    "Use the model to predict values for test data"
   ]
  },
  {
   "cell_type": "code",
   "execution_count": 239,
   "metadata": {},
   "outputs": [],
   "source": [
    "y_modelgnb = modelgnb.predict(X_test_GNB)"
   ]
  },
  {
   "cell_type": "code",
   "execution_count": 240,
   "metadata": {},
   "outputs": [
    {
     "data": {
      "text/plain": [
       "0    3956\n",
       "1      44\n",
       "Name: 0, dtype: int64"
      ]
     },
     "execution_count": 240,
     "metadata": {},
     "output_type": "execute_result"
    }
   ],
   "source": [
    "(pd.DataFrame(y_modelgnb)[0]).value_counts()"
   ]
  },
  {
   "cell_type": "markdown",
   "metadata": {},
   "source": [
    "Performance metrics of Gaussian NB model"
   ]
  },
  {
   "cell_type": "code",
   "execution_count": 241,
   "metadata": {},
   "outputs": [
    {
     "data": {
      "text/plain": [
       "0.9825"
      ]
     },
     "execution_count": 241,
     "metadata": {},
     "output_type": "execute_result"
    }
   ],
   "source": [
    "from sklearn.metrics import accuracy_score\n",
    "accuracy_score(y_modelgnb, y_test_GNB)"
   ]
  },
  {
   "cell_type": "code",
   "execution_count": 242,
   "metadata": {},
   "outputs": [],
   "source": [
    "data_LReg['PredictedValue'] = modelgnb.predict(X)"
   ]
  },
  {
   "cell_type": "code",
   "execution_count": 243,
   "metadata": {},
   "outputs": [
    {
     "data": {
      "text/plain": [
       "0    19802\n",
       "1      198\n",
       "Name: PredictedValue, dtype: int64"
      ]
     },
     "execution_count": 243,
     "metadata": {},
     "output_type": "execute_result"
    }
   ],
   "source": [
    "data_LReg['PredictedValue'].value_counts()"
   ]
  },
  {
   "cell_type": "code",
   "execution_count": 199,
   "metadata": {},
   "outputs": [],
   "source": [
    "from sklearn.utils import resample\n",
    "# Separate majority and minority classes\n",
    "df_majority = df_classifier[df_classifier.RevenueCat==0]\n",
    "df_minority = df_classifier[df_classifier.RevenueCat==1]"
   ]
  },
  {
   "cell_type": "code",
   "execution_count": 210,
   "metadata": {},
   "outputs": [
    {
     "data": {
      "text/plain": [
       "visitNumber                 196\n",
       "totals_bounces              196\n",
       "totals_hits                 196\n",
       "totals_newVisits            196\n",
       "totals_pageviews            196\n",
       "totals_sessionQualityDim    196\n",
       "totals_timeOnSite           196\n",
       "Direct                      196\n",
       "Display                     196\n",
       "Organic Search              196\n",
       "Paid Search                 196\n",
       "Referral                    196\n",
       "Social                      196\n",
       "APAC                        196\n",
       "Central America             196\n",
       "EMEA                        196\n",
       "North America               196\n",
       "South America               196\n",
       "mobile                      196\n",
       "tablet                      196\n",
       "RevenueCat                  196\n",
       "dtype: int64"
      ]
     },
     "execution_count": 210,
     "metadata": {},
     "output_type": "execute_result"
    }
   ],
   "source": [
    "df_minority.count()"
   ]
  },
  {
   "cell_type": "code",
   "execution_count": 200,
   "metadata": {},
   "outputs": [],
   "source": [
    "# Downsample majority class\n",
    "df_majority_downsampled = resample(df_majority, \n",
    "                                 replace=False,    # sample without replacement\n",
    "                                 n_samples=196,     # to match minority class\n",
    "                                 random_state=123)"
   ]
  },
  {
   "cell_type": "code",
   "execution_count": 201,
   "metadata": {},
   "outputs": [],
   "source": [
    "# Combine minority class with downsampled majority class\n",
    "df_downsampled = pd.concat([df_majority_downsampled, df_minority])"
   ]
  },
  {
   "cell_type": "code",
   "execution_count": 202,
   "metadata": {},
   "outputs": [
    {
     "data": {
      "text/plain": [
       "1    196\n",
       "0    196\n",
       "Name: RevenueCat, dtype: int64"
      ]
     },
     "execution_count": 202,
     "metadata": {},
     "output_type": "execute_result"
    }
   ],
   "source": [
    "# Display new class counts\n",
    "df_downsampled.RevenueCat.value_counts()"
   ]
  },
  {
   "cell_type": "code",
   "execution_count": 203,
   "metadata": {},
   "outputs": [],
   "source": [
    "# Separate input features (X) and target variable (y)\n",
    "y1 = df_downsampled.RevenueCat\n",
    "X1 = df_downsampled.drop('RevenueCat', axis=1)"
   ]
  },
  {
   "cell_type": "code",
   "execution_count": 204,
   "metadata": {},
   "outputs": [],
   "source": [
    "X1_train_GNB, X1_test_GNB, y1_train_GNB, y1_test_GNB = train_test_split(X1, y1, test_size = 0.2, random_state = 0)"
   ]
  },
  {
   "cell_type": "code",
   "execution_count": 205,
   "metadata": {},
   "outputs": [
    {
     "data": {
      "text/plain": [
       "GaussianNB(priors=None, var_smoothing=1e-09)"
      ]
     },
     "execution_count": 205,
     "metadata": {},
     "output_type": "execute_result"
    }
   ],
   "source": [
    "modelgnb2 = GaussianNB()     \n",
    "modelgnb2.fit(X1_train_GNB, y1_train_GNB)"
   ]
  },
  {
   "cell_type": "code",
   "execution_count": 207,
   "metadata": {},
   "outputs": [],
   "source": [
    "df_downsampled['PredictedValue2'] = modelgnb2.predict(X1)"
   ]
  },
  {
   "cell_type": "code",
   "execution_count": 208,
   "metadata": {},
   "outputs": [
    {
     "data": {
      "text/plain": [
       "0.8086734693877551"
      ]
     },
     "execution_count": 208,
     "metadata": {},
     "output_type": "execute_result"
    }
   ],
   "source": [
    "accuracy_score(df_downsampled['PredictedValue2'], df_downsampled['RevenueCat'])"
   ]
  },
  {
   "cell_type": "code",
   "execution_count": 209,
   "metadata": {},
   "outputs": [
    {
     "data": {
      "text/plain": [
       "0    13522\n",
       "1     6478\n",
       "Name: PredictedValue3, dtype: int64"
      ]
     },
     "execution_count": 209,
     "metadata": {},
     "output_type": "execute_result"
    }
   ],
   "source": [
    "data_LReg['PredictedValue3'] = modelgnb2.predict(X)\n",
    "data_LReg['PredictedValue3'].value_counts()"
   ]
  },
  {
   "cell_type": "code",
   "execution_count": 178,
   "metadata": {},
   "outputs": [
    {
     "data": {
      "text/html": [
       "<div>\n",
       "<style scoped>\n",
       "    .dataframe tbody tr th:only-of-type {\n",
       "        vertical-align: middle;\n",
       "    }\n",
       "\n",
       "    .dataframe tbody tr th {\n",
       "        vertical-align: top;\n",
       "    }\n",
       "\n",
       "    .dataframe thead th {\n",
       "        text-align: right;\n",
       "    }\n",
       "</style>\n",
       "<table border=\"1\" class=\"dataframe\">\n",
       "  <thead>\n",
       "    <tr style=\"text-align: right;\">\n",
       "      <th></th>\n",
       "      <th>totals_transactions</th>\n",
       "      <th>visitNumber</th>\n",
       "      <th>totals_bounces</th>\n",
       "      <th>totals_hits</th>\n",
       "      <th>totals_newVisits</th>\n",
       "      <th>totals_pageviews</th>\n",
       "      <th>totals_sessionQualityDim</th>\n",
       "      <th>totals_timeOnSite</th>\n",
       "      <th>totals_totalTransactionRevenue</th>\n",
       "      <th>totals_transactionRevenue</th>\n",
       "      <th>...</th>\n",
       "      <th>Social</th>\n",
       "      <th>APAC</th>\n",
       "      <th>Central America</th>\n",
       "      <th>EMEA</th>\n",
       "      <th>North America</th>\n",
       "      <th>South America</th>\n",
       "      <th>mobile</th>\n",
       "      <th>tablet</th>\n",
       "      <th>RevenueCat</th>\n",
       "      <th>PredictedValue</th>\n",
       "    </tr>\n",
       "  </thead>\n",
       "  <tbody>\n",
       "    <tr>\n",
       "      <th>0</th>\n",
       "      <td>0.0</td>\n",
       "      <td>0.0000</td>\n",
       "      <td>1.0</td>\n",
       "      <td>0.000000</td>\n",
       "      <td>1.0</td>\n",
       "      <td>0.006061</td>\n",
       "      <td>0.010417</td>\n",
       "      <td>0.000000</td>\n",
       "      <td>0.0</td>\n",
       "      <td>0.0</td>\n",
       "      <td>...</td>\n",
       "      <td>0</td>\n",
       "      <td>0</td>\n",
       "      <td>0</td>\n",
       "      <td>1</td>\n",
       "      <td>0</td>\n",
       "      <td>0</td>\n",
       "      <td>0</td>\n",
       "      <td>0</td>\n",
       "      <td>0</td>\n",
       "      <td>0</td>\n",
       "    </tr>\n",
       "    <tr>\n",
       "      <th>1</th>\n",
       "      <td>0.0</td>\n",
       "      <td>0.0125</td>\n",
       "      <td>0.0</td>\n",
       "      <td>0.004386</td>\n",
       "      <td>0.0</td>\n",
       "      <td>0.012121</td>\n",
       "      <td>0.020833</td>\n",
       "      <td>0.005042</td>\n",
       "      <td>0.0</td>\n",
       "      <td>0.0</td>\n",
       "      <td>...</td>\n",
       "      <td>0</td>\n",
       "      <td>0</td>\n",
       "      <td>0</td>\n",
       "      <td>0</td>\n",
       "      <td>1</td>\n",
       "      <td>0</td>\n",
       "      <td>0</td>\n",
       "      <td>0</td>\n",
       "      <td>0</td>\n",
       "      <td>1</td>\n",
       "    </tr>\n",
       "    <tr>\n",
       "      <th>2</th>\n",
       "      <td>0.0</td>\n",
       "      <td>0.0000</td>\n",
       "      <td>0.0</td>\n",
       "      <td>0.004386</td>\n",
       "      <td>1.0</td>\n",
       "      <td>0.012121</td>\n",
       "      <td>0.010417</td>\n",
       "      <td>0.006843</td>\n",
       "      <td>0.0</td>\n",
       "      <td>0.0</td>\n",
       "      <td>...</td>\n",
       "      <td>0</td>\n",
       "      <td>0</td>\n",
       "      <td>0</td>\n",
       "      <td>0</td>\n",
       "      <td>1</td>\n",
       "      <td>0</td>\n",
       "      <td>1</td>\n",
       "      <td>0</td>\n",
       "      <td>0</td>\n",
       "      <td>1</td>\n",
       "    </tr>\n",
       "  </tbody>\n",
       "</table>\n",
       "<p>3 rows × 25 columns</p>\n",
       "</div>"
      ],
      "text/plain": [
       "   totals_transactions  visitNumber  totals_bounces  totals_hits  \\\n",
       "0                  0.0       0.0000             1.0     0.000000   \n",
       "1                  0.0       0.0125             0.0     0.004386   \n",
       "2                  0.0       0.0000             0.0     0.004386   \n",
       "\n",
       "   totals_newVisits  totals_pageviews  totals_sessionQualityDim  \\\n",
       "0               1.0          0.006061                  0.010417   \n",
       "1               0.0          0.012121                  0.020833   \n",
       "2               1.0          0.012121                  0.010417   \n",
       "\n",
       "   totals_timeOnSite  totals_totalTransactionRevenue  \\\n",
       "0           0.000000                             0.0   \n",
       "1           0.005042                             0.0   \n",
       "2           0.006843                             0.0   \n",
       "\n",
       "   totals_transactionRevenue       ...        Social  APAC  Central America  \\\n",
       "0                        0.0       ...             0     0                0   \n",
       "1                        0.0       ...             0     0                0   \n",
       "2                        0.0       ...             0     0                0   \n",
       "\n",
       "   EMEA  North America  South America  mobile  tablet  RevenueCat  \\\n",
       "0     1              0              0       0       0           0   \n",
       "1     0              1              0       0       0           0   \n",
       "2     0              1              0       1       0           0   \n",
       "\n",
       "   PredictedValue  \n",
       "0               0  \n",
       "1               1  \n",
       "2               1  \n",
       "\n",
       "[3 rows x 25 columns]"
      ]
     },
     "execution_count": 178,
     "metadata": {},
     "output_type": "execute_result"
    }
   ],
   "source": [
    "data_LReg.head(3)"
   ]
  },
  {
   "cell_type": "code",
   "execution_count": 179,
   "metadata": {},
   "outputs": [
    {
     "data": {
      "text/html": [
       "<div>\n",
       "<style scoped>\n",
       "    .dataframe tbody tr th:only-of-type {\n",
       "        vertical-align: middle;\n",
       "    }\n",
       "\n",
       "    .dataframe tbody tr th {\n",
       "        vertical-align: top;\n",
       "    }\n",
       "\n",
       "    .dataframe thead th {\n",
       "        text-align: right;\n",
       "    }\n",
       "</style>\n",
       "<table border=\"1\" class=\"dataframe\">\n",
       "  <thead>\n",
       "    <tr style=\"text-align: right;\">\n",
       "      <th></th>\n",
       "      <th>totals_transactions</th>\n",
       "      <th>visitNumber</th>\n",
       "      <th>totals_bounces</th>\n",
       "      <th>totals_hits</th>\n",
       "      <th>totals_newVisits</th>\n",
       "      <th>totals_pageviews</th>\n",
       "      <th>totals_sessionQualityDim</th>\n",
       "      <th>totals_timeOnSite</th>\n",
       "      <th>totals_totalTransactionRevenue</th>\n",
       "      <th>totals_transactionRevenue</th>\n",
       "      <th>...</th>\n",
       "      <th>Social</th>\n",
       "      <th>APAC</th>\n",
       "      <th>Central America</th>\n",
       "      <th>EMEA</th>\n",
       "      <th>North America</th>\n",
       "      <th>South America</th>\n",
       "      <th>mobile</th>\n",
       "      <th>tablet</th>\n",
       "      <th>RevenueCat</th>\n",
       "      <th>PredictedValue</th>\n",
       "    </tr>\n",
       "  </thead>\n",
       "  <tbody>\n",
       "    <tr>\n",
       "      <th>1</th>\n",
       "      <td>0.0</td>\n",
       "      <td>0.0125</td>\n",
       "      <td>0.0</td>\n",
       "      <td>0.004386</td>\n",
       "      <td>0.0</td>\n",
       "      <td>0.012121</td>\n",
       "      <td>0.020833</td>\n",
       "      <td>0.005042</td>\n",
       "      <td>0.0</td>\n",
       "      <td>0.0</td>\n",
       "      <td>...</td>\n",
       "      <td>0</td>\n",
       "      <td>0</td>\n",
       "      <td>0</td>\n",
       "      <td>0</td>\n",
       "      <td>1</td>\n",
       "      <td>0</td>\n",
       "      <td>0</td>\n",
       "      <td>0</td>\n",
       "      <td>0</td>\n",
       "      <td>1</td>\n",
       "    </tr>\n",
       "    <tr>\n",
       "      <th>2</th>\n",
       "      <td>0.0</td>\n",
       "      <td>0.0000</td>\n",
       "      <td>0.0</td>\n",
       "      <td>0.004386</td>\n",
       "      <td>1.0</td>\n",
       "      <td>0.012121</td>\n",
       "      <td>0.010417</td>\n",
       "      <td>0.006843</td>\n",
       "      <td>0.0</td>\n",
       "      <td>0.0</td>\n",
       "      <td>...</td>\n",
       "      <td>0</td>\n",
       "      <td>0</td>\n",
       "      <td>0</td>\n",
       "      <td>0</td>\n",
       "      <td>1</td>\n",
       "      <td>0</td>\n",
       "      <td>1</td>\n",
       "      <td>0</td>\n",
       "      <td>0</td>\n",
       "      <td>1</td>\n",
       "    </tr>\n",
       "    <tr>\n",
       "      <th>5</th>\n",
       "      <td>0.0</td>\n",
       "      <td>0.0000</td>\n",
       "      <td>0.0</td>\n",
       "      <td>0.004386</td>\n",
       "      <td>1.0</td>\n",
       "      <td>0.012121</td>\n",
       "      <td>0.020833</td>\n",
       "      <td>0.002161</td>\n",
       "      <td>0.0</td>\n",
       "      <td>0.0</td>\n",
       "      <td>...</td>\n",
       "      <td>0</td>\n",
       "      <td>0</td>\n",
       "      <td>0</td>\n",
       "      <td>0</td>\n",
       "      <td>1</td>\n",
       "      <td>0</td>\n",
       "      <td>0</td>\n",
       "      <td>0</td>\n",
       "      <td>0</td>\n",
       "      <td>1</td>\n",
       "    </tr>\n",
       "  </tbody>\n",
       "</table>\n",
       "<p>3 rows × 25 columns</p>\n",
       "</div>"
      ],
      "text/plain": [
       "   totals_transactions  visitNumber  totals_bounces  totals_hits  \\\n",
       "1                  0.0       0.0125             0.0     0.004386   \n",
       "2                  0.0       0.0000             0.0     0.004386   \n",
       "5                  0.0       0.0000             0.0     0.004386   \n",
       "\n",
       "   totals_newVisits  totals_pageviews  totals_sessionQualityDim  \\\n",
       "1               0.0          0.012121                  0.020833   \n",
       "2               1.0          0.012121                  0.010417   \n",
       "5               1.0          0.012121                  0.020833   \n",
       "\n",
       "   totals_timeOnSite  totals_totalTransactionRevenue  \\\n",
       "1           0.005042                             0.0   \n",
       "2           0.006843                             0.0   \n",
       "5           0.002161                             0.0   \n",
       "\n",
       "   totals_transactionRevenue       ...        Social  APAC  Central America  \\\n",
       "1                        0.0       ...             0     0                0   \n",
       "2                        0.0       ...             0     0                0   \n",
       "5                        0.0       ...             0     0                0   \n",
       "\n",
       "   EMEA  North America  South America  mobile  tablet  RevenueCat  \\\n",
       "1     0              1              0       0       0           0   \n",
       "2     0              1              0       1       0           0   \n",
       "5     0              1              0       0       0           0   \n",
       "\n",
       "   PredictedValue  \n",
       "1               1  \n",
       "2               1  \n",
       "5               1  \n",
       "\n",
       "[3 rows x 25 columns]"
      ]
     },
     "execution_count": 179,
     "metadata": {},
     "output_type": "execute_result"
    }
   ],
   "source": [
    "dataReg = data_LReg[data_LReg['PredictedValue'] == 1]\n",
    "dataReg.head(3)"
   ]
  },
  {
   "cell_type": "code",
   "execution_count": 180,
   "metadata": {},
   "outputs": [
    {
     "data": {
      "text/plain": [
       "(6483, 25)"
      ]
     },
     "execution_count": 180,
     "metadata": {},
     "output_type": "execute_result"
    }
   ],
   "source": [
    "dataReg.shape"
   ]
  },
  {
   "cell_type": "code",
   "execution_count": 181,
   "metadata": {},
   "outputs": [
    {
     "data": {
      "text/html": [
       "<div>\n",
       "<style scoped>\n",
       "    .dataframe tbody tr th:only-of-type {\n",
       "        vertical-align: middle;\n",
       "    }\n",
       "\n",
       "    .dataframe tbody tr th {\n",
       "        vertical-align: top;\n",
       "    }\n",
       "\n",
       "    .dataframe thead th {\n",
       "        text-align: right;\n",
       "    }\n",
       "</style>\n",
       "<table border=\"1\" class=\"dataframe\">\n",
       "  <thead>\n",
       "    <tr style=\"text-align: right;\">\n",
       "      <th></th>\n",
       "      <th>totals_transactions</th>\n",
       "      <th>visitNumber</th>\n",
       "      <th>totals_bounces</th>\n",
       "      <th>totals_hits</th>\n",
       "      <th>totals_newVisits</th>\n",
       "      <th>totals_pageviews</th>\n",
       "      <th>totals_sessionQualityDim</th>\n",
       "      <th>totals_timeOnSite</th>\n",
       "      <th>totals_totalTransactionRevenue</th>\n",
       "      <th>totals_transactionRevenue</th>\n",
       "      <th>...</th>\n",
       "      <th>Referral</th>\n",
       "      <th>Social</th>\n",
       "      <th>APAC</th>\n",
       "      <th>Central America</th>\n",
       "      <th>EMEA</th>\n",
       "      <th>North America</th>\n",
       "      <th>South America</th>\n",
       "      <th>mobile</th>\n",
       "      <th>tablet</th>\n",
       "      <th>PredictedValue</th>\n",
       "    </tr>\n",
       "  </thead>\n",
       "  <tbody>\n",
       "    <tr>\n",
       "      <th>1</th>\n",
       "      <td>0.0</td>\n",
       "      <td>0.0125</td>\n",
       "      <td>0.0</td>\n",
       "      <td>0.004386</td>\n",
       "      <td>0.0</td>\n",
       "      <td>0.012121</td>\n",
       "      <td>0.020833</td>\n",
       "      <td>0.005042</td>\n",
       "      <td>0.0</td>\n",
       "      <td>0.0</td>\n",
       "      <td>...</td>\n",
       "      <td>1</td>\n",
       "      <td>0</td>\n",
       "      <td>0</td>\n",
       "      <td>0</td>\n",
       "      <td>0</td>\n",
       "      <td>1</td>\n",
       "      <td>0</td>\n",
       "      <td>0</td>\n",
       "      <td>0</td>\n",
       "      <td>1</td>\n",
       "    </tr>\n",
       "    <tr>\n",
       "      <th>2</th>\n",
       "      <td>0.0</td>\n",
       "      <td>0.0000</td>\n",
       "      <td>0.0</td>\n",
       "      <td>0.004386</td>\n",
       "      <td>1.0</td>\n",
       "      <td>0.012121</td>\n",
       "      <td>0.010417</td>\n",
       "      <td>0.006843</td>\n",
       "      <td>0.0</td>\n",
       "      <td>0.0</td>\n",
       "      <td>...</td>\n",
       "      <td>0</td>\n",
       "      <td>0</td>\n",
       "      <td>0</td>\n",
       "      <td>0</td>\n",
       "      <td>0</td>\n",
       "      <td>1</td>\n",
       "      <td>0</td>\n",
       "      <td>1</td>\n",
       "      <td>0</td>\n",
       "      <td>1</td>\n",
       "    </tr>\n",
       "    <tr>\n",
       "      <th>5</th>\n",
       "      <td>0.0</td>\n",
       "      <td>0.0000</td>\n",
       "      <td>0.0</td>\n",
       "      <td>0.004386</td>\n",
       "      <td>1.0</td>\n",
       "      <td>0.012121</td>\n",
       "      <td>0.020833</td>\n",
       "      <td>0.002161</td>\n",
       "      <td>0.0</td>\n",
       "      <td>0.0</td>\n",
       "      <td>...</td>\n",
       "      <td>1</td>\n",
       "      <td>0</td>\n",
       "      <td>0</td>\n",
       "      <td>0</td>\n",
       "      <td>0</td>\n",
       "      <td>1</td>\n",
       "      <td>0</td>\n",
       "      <td>0</td>\n",
       "      <td>0</td>\n",
       "      <td>1</td>\n",
       "    </tr>\n",
       "  </tbody>\n",
       "</table>\n",
       "<p>3 rows × 24 columns</p>\n",
       "</div>"
      ],
      "text/plain": [
       "   totals_transactions  visitNumber  totals_bounces  totals_hits  \\\n",
       "1                  0.0       0.0125             0.0     0.004386   \n",
       "2                  0.0       0.0000             0.0     0.004386   \n",
       "5                  0.0       0.0000             0.0     0.004386   \n",
       "\n",
       "   totals_newVisits  totals_pageviews  totals_sessionQualityDim  \\\n",
       "1               0.0          0.012121                  0.020833   \n",
       "2               1.0          0.012121                  0.010417   \n",
       "5               1.0          0.012121                  0.020833   \n",
       "\n",
       "   totals_timeOnSite  totals_totalTransactionRevenue  \\\n",
       "1           0.005042                             0.0   \n",
       "2           0.006843                             0.0   \n",
       "5           0.002161                             0.0   \n",
       "\n",
       "   totals_transactionRevenue       ...        Referral  Social  APAC  \\\n",
       "1                        0.0       ...               1       0     0   \n",
       "2                        0.0       ...               0       0     0   \n",
       "5                        0.0       ...               1       0     0   \n",
       "\n",
       "   Central America  EMEA  North America  South America  mobile  tablet  \\\n",
       "1                0     0              1              0       0       0   \n",
       "2                0     0              1              0       1       0   \n",
       "5                0     0              1              0       0       0   \n",
       "\n",
       "   PredictedValue  \n",
       "1               1  \n",
       "2               1  \n",
       "5               1  \n",
       "\n",
       "[3 rows x 24 columns]"
      ]
     },
     "execution_count": 181,
     "metadata": {},
     "output_type": "execute_result"
    }
   ],
   "source": [
    "dataReg = dataReg.drop(['RevenueCat'], axis =1)\n",
    "dataReg.head(3)"
   ]
  },
  {
   "cell_type": "code",
   "execution_count": 182,
   "metadata": {},
   "outputs": [],
   "source": [
    "from sklearn.linear_model import LinearRegression\n",
    "from sklearn import metrics"
   ]
  },
  {
   "cell_type": "code",
   "execution_count": 183,
   "metadata": {},
   "outputs": [],
   "source": [
    "J = dataReg.drop(['totals_totalTransactionRevenue','totals_transactionRevenue'], axis =1)\n",
    "K = dataReg['totals_transactionRevenue']"
   ]
  },
  {
   "cell_type": "code",
   "execution_count": 184,
   "metadata": {},
   "outputs": [],
   "source": [
    "J_train, J_test, K_train, K_test = train_test_split(J, K,test_size=0.20, random_state=0)"
   ]
  },
  {
   "cell_type": "code",
   "execution_count": 185,
   "metadata": {},
   "outputs": [
    {
     "data": {
      "text/plain": [
       "LinearRegression(copy_X=True, fit_intercept=True, n_jobs=None,\n",
       "         normalize=False)"
      ]
     },
     "execution_count": 185,
     "metadata": {},
     "output_type": "execute_result"
    }
   ],
   "source": [
    "linreg = LinearRegression()\n",
    "linreg.fit(J_train, K_train)"
   ]
  },
  {
   "cell_type": "code",
   "execution_count": 186,
   "metadata": {},
   "outputs": [],
   "source": [
    "K_predicted = linreg.predict(J_test)"
   ]
  },
  {
   "cell_type": "code",
   "execution_count": 187,
   "metadata": {},
   "outputs": [],
   "source": [
    "from sklearn.metrics import r2_score\n",
    "from sklearn.metrics import mean_squared_error"
   ]
  },
  {
   "cell_type": "code",
   "execution_count": 188,
   "metadata": {},
   "outputs": [
    {
     "data": {
      "text/plain": [
       "0.0003839288389865015"
      ]
     },
     "execution_count": 188,
     "metadata": {},
     "output_type": "execute_result"
    }
   ],
   "source": [
    "mean_squared_error(K_test,K_predicted)"
   ]
  },
  {
   "cell_type": "code",
   "execution_count": 189,
   "metadata": {},
   "outputs": [
    {
     "data": {
      "text/plain": [
       "(1297,)"
      ]
     },
     "execution_count": 189,
     "metadata": {},
     "output_type": "execute_result"
    }
   ],
   "source": [
    "K_predicted.shape"
   ]
  },
  {
   "cell_type": "markdown",
   "metadata": {},
   "source": [
    "# Part 2\n",
    "In this part you will create a Python function ``plot_decision_boundary`` that will accepts a machine learning model, feature set ``X``, and target set ``y`` as input and will plot the decision boundary of the input machine learning model  on ``(X,y)``. The following is a sample run of this function: \n",
    "\n",
    "```Python\n",
    "%matplotlib inline\n",
    "# Loading some example data\n",
    "iris = datasets.load_iris()\n",
    "X = iris.data[:, [0, 2]]\n",
    "y = iris.target\n",
    "\n",
    "# Training a classifier\n",
    "svm = SVC(C=0.5, kernel='linear')\n",
    "svm.fit(X, y)\n",
    "\n",
    "# Plotting decision boundary\n",
    "plot_decision_boundary(X, y, clf=svm)\n",
    "\n",
    "# Adding axes annotations\n",
    "plt.xlabel('sepal length [cm]')\n",
    "plt.ylabel('petal length [cm]')\n",
    "plt.title('SVM on Iris')```\n",
    "\n",
    "Sample output: \n",
    "![decision_boundary.png](attachment:decision_boundary.png)"
   ]
  },
  {
   "cell_type": "code",
   "execution_count": null,
   "metadata": {},
   "outputs": [],
   "source": [
    "def plot_decision_boundary():\n",
    "    \"\"\"\n",
    "    FIXME: complete this function.\n",
    "    \"\"\"\n",
    "    pass"
   ]
  }
 ],
 "metadata": {
  "kernelspec": {
   "display_name": "Python 3",
   "language": "python",
   "name": "python3"
  },
  "language_info": {
   "codemirror_mode": {
    "name": "ipython",
    "version": 3
   },
   "file_extension": ".py",
   "mimetype": "text/x-python",
   "name": "python",
   "nbconvert_exporter": "python",
   "pygments_lexer": "ipython3",
   "version": "3.6.5"
  }
 },
 "nbformat": 4,
 "nbformat_minor": 2
}
